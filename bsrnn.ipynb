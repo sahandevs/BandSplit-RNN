{
 "cells": [
  {
   "cell_type": "code",
   "execution_count": 1,
   "id": "741a4d6f-e587-4f57-8a1d-1c54412d69d2",
   "metadata": {},
   "outputs": [],
   "source": [
    "import torch\n",
    "from torch import nn\n",
    "\n",
    "import torchaudio\n",
    "import torchaudio.functional as F\n",
    "import torchaudio.transforms as T\n",
    "\n",
    "import IPython.display as idp\n",
    "\n",
    "import matplotlib.pyplot as plt\n",
    "import numpy as np\n"
   ]
  },
  {
   "cell_type": "code",
   "execution_count": 2,
   "id": "81ee4ca1-ac3e-40d7-845a-23f6c4f625ff",
   "metadata": {},
   "outputs": [],
   "source": [
    "visualize=False\n",
    "# Feature gate: Overtones Splits\n",
    "fg_generic_bands = True"
   ]
  },
  {
   "cell_type": "markdown",
   "id": "2e425c21-aa1a-419c-904e-c68e9a683582",
   "metadata": {
    "tags": []
   },
   "source": [
    "### 1) Input and preparation"
   ]
  },
  {
   "cell_type": "code",
   "execution_count": 3,
   "id": "a16cbc51-70f7-41c4-be4c-cb6a7c5debd5",
   "metadata": {},
   "outputs": [],
   "source": [
    "# load audio\n",
    "\n",
    "sample_rate = 44100 # \n",
    "\n",
    "def show_idp_audio(waveform):\n",
    "    n = 14\n",
    "    return idp.display(idp.Audio(waveform[(3 * n) * sample_rate:(3 * (n + 1)) * sample_rate], rate=sample_rate))\n",
    "\n",
    "def load_audio(path, visualize=False):\n",
    "    waveform, sr = torchaudio.load(path)\n",
    "    # Convert everthing to mono channel for simplicity\n",
    "    if waveform.shape[0] > 1:\n",
    "        waveform = waveform.mean(dim=0)\n",
    "        # waveform is now a vector \n",
    "    # Resample everything to 44.1khz for simplicity\n",
    "    resampler = T.Resample(sr, sample_rate, dtype=waveform.dtype)\n",
    "    waveform = resampler(waveform)\n",
    "    \n",
    "    if visualize:\n",
    "        # samplerate = 1/t\n",
    "        # display the first 3 seconds\n",
    "        show_idp_audio(waveform)\n",
    "    \n",
    "    return waveform\n",
    "\n",
    "if visualize:\n",
    "    sample_waveform = load_audio(\"mixture.wav\", visualize=True)\n",
    "\n",
    "    sample_waveform.size()"
   ]
  },
  {
   "cell_type": "code",
   "execution_count": 4,
   "id": "45db49d1-7007-4b1f-a9d0-e4a68dfb773f",
   "metadata": {},
   "outputs": [],
   "source": [
    "def rms_normalize(waveform, target_rms):\n",
    "    current_rms = torch.sqrt(torch.mean(waveform**2))\n",
    "    gain_factor = target_rms / (current_rms + 1e-10)\n",
    "    normalized_waveform = waveform * gain_factor\n",
    "    return normalized_waveform, gain_factor\n",
    "\n",
    "def rms_denormalize(normalized_waveform, gain_factor):\n",
    "    inverse_gain = 1 / gain_factor\n",
    "    reversed_waveform = normalized_waveform * inverse_gain\n",
    "    return reversed_waveform\n",
    "\n",
    "def peak_normalize(waveform, target_peak):\n",
    "    peak_value = torch.max(torch.abs(waveform))\n",
    "    peak_gain_factor = target_peak / (peak_value + 1e-10)\n",
    "    normalized_waveform = waveform * peak_gain_factor\n",
    "    return normalized_waveform, peak_gain_factor\n",
    "\n",
    "def peak_denormalize(normalized_waveform, peak_gain_factor):\n",
    "    inverse_peak_gain = 1 / peak_gain_factor\n",
    "    reversed_waveform = normalized_waveform * inverse_peak_gain\n",
    "    return reversed_waveform\n",
    "\n",
    "def inspect_waveform(waveform):\n",
    "    transform = T.Loudness(sample_rate)\n",
    "    return f\"LKFS:{transform(waveform.unsqueeze(0))} max: {waveform.max()} min: {waveform.min()} avg: {waveform.mean()}\"\n",
    "\n",
    "def normalize_waveform(waveform, visualize=False):\n",
    "    \"\"\" rms -> peak \"\"\"\n",
    "    # target rms can be anything. the important part here\n",
    "    # is to be constant for all kind of songs\n",
    "\n",
    "    if visualize:\n",
    "        print(\"original: \" + inspect_waveform(waveform))\n",
    "        show_idp_audio(waveform)\n",
    "\n",
    "    normalized_waveform, gain_factor = rms_normalize(waveform, target_rms=0.1)\n",
    "    \n",
    "    if visualize:\n",
    "        print(\"rms_normalize: \" + inspect_waveform(normalized_waveform))\n",
    "        show_idp_audio(normalized_waveform)\n",
    "\n",
    "    # setting target peak to 1.0 forces the values between -1.0 < y < 1.0\n",
    "    normalized_waveform, peak_gain_factor = peak_normalize(normalized_waveform, target_peak=0.1)\n",
    "    \n",
    "    if visualize:\n",
    "        print(\"peak_normalize: \" + inspect_waveform(normalized_waveform))\n",
    "        show_idp_audio(normalized_waveform)\n",
    "    \n",
    "    return normalized_waveform, gain_factor, peak_gain_factor\n",
    "\n",
    "def de_normalize_waveform(waveform, gain_factor, peak_gain_factor, visualize=False):\n",
    "    if visualize:\n",
    "        print(\"de_normalize_waveform: \" + inspect_waveform(waveform))\n",
    "        show_idp_audio(waveform)\n",
    "    \n",
    "    waveform = peak_denormalize(waveform, peak_gain_factor)\n",
    "    \n",
    "    if visualize:\n",
    "        print(\"peak_denormalize: \" + inspect_waveform(waveform))\n",
    "        show_idp_audio(waveform)\n",
    "    waveform = rms_denormalize(waveform, gain_factor)\n",
    "    \n",
    "    if visualize:\n",
    "        print(\"rms_denormalize: \" + inspect_waveform(waveform))\n",
    "        show_idp_audio(waveform)\n",
    "    \n",
    "    return waveform\n",
    "\n",
    "if visualize:\n",
    "    normal_waveform, gain_factor, peak_gain_factor = normalize_waveform(sample_waveform, visualize=True)\n",
    "    _ = de_normalize_waveform(normal_waveform, gain_factor, peak_gain_factor, visualize=True)"
   ]
  },
  {
   "cell_type": "code",
   "execution_count": 5,
   "id": "a7787ec7-063b-47f3-9549-578fc962cd56",
   "metadata": {},
   "outputs": [],
   "source": [
    "chunk_size_in_seconds = 1\n",
    "chunk_size = chunk_size_in_seconds * sample_rate\n",
    "\n",
    "def split(waveform, visualize=False):\n",
    "    # we have a vector by length n and we want to split it to even chunks by length of\n",
    "    # chunk_size\n",
    "    padding_length = (chunk_size - waveform.shape[0] % chunk_size) % chunk_size\n",
    "    waveform = nn.functional.pad(waveform, (0, padding_length), 'constant', 0)\n",
    "    # -1 means automatically infer based on other dims\n",
    "    chunked_waveform = waveform.view(-1, chunk_size)\n",
    "    \n",
    "    if visualize:\n",
    "        fig = plt.figure(constrained_layout=True, figsize=(16, 4))\n",
    "        subfigs = fig.subfigures(2, 1).flat\n",
    "        \n",
    "        # first 3 chunk_size of waveform\n",
    "        w = waveform[:3 * chunk_size].detach().numpy()\n",
    "        ylim = [w.max() * 1.1, w.min() * 1.1]\n",
    "        def time_axis(start, duration):\n",
    "            return torch.arange(start * sample_rate, (duration + start) * sample_rate) / sample_rate\n",
    "        axes = subfigs[0].subplots(1, 1)\n",
    "        axes.plot(time_axis(0, 3), w, linewidth=0.3)\n",
    "        axes.set_xlabel(\"time [s] for first 3 seconds\")\n",
    "        axes.set_ylim(ylim)\n",
    "        \n",
    "        # first 4 chunks + last chunk\n",
    "        axes = subfigs[1].subplots(1, 5)\n",
    "        for i, chunk in enumerate([0, 1, 3, 4, chunked_waveform.shape[0] - 1]): \n",
    "            axes[i].plot(time_axis(0, chunk_size_in_seconds), chunked_waveform[chunk], linewidth=0.3)\n",
    "            axes[i].set_title(f\"chunk {chunk}\")\n",
    "            axes[i].set_ylim(ylim)\n",
    "        \n",
    "    return chunked_waveform, padding_length\n",
    "\n",
    "def merge(chunks, padding_length):\n",
    "    merged_waveform = torch.cat([torch.flatten(x) for x in chunks])\n",
    "    return merged_waveform[:-padding_length]\n",
    "\n",
    "if visualize:\n",
    "    sample_waveform_chunks, padding_length = split(normal_waveform, visualize=True)\n",
    "\n",
    "    assert sample_waveform_chunks.shape[1] == chunk_size\n",
    "\n",
    "    sample_merged = merge(sample_waveform_chunks, padding_length)\n",
    "\n",
    "    assert sample_merged.shape == normal_waveform.shape\n",
    "    assert torch.all(sample_merged == normal_waveform)"
   ]
  },
  {
   "cell_type": "code",
   "execution_count": 6,
   "id": "5d3f9132-958f-4704-8ad9-3a22c4138b85",
   "metadata": {},
   "outputs": [],
   "source": [
    "n_fft = 2048\n",
    "win_length = n_fft\n",
    "hop_length = win_length // 4\n",
    "\n",
    "\n",
    "def visualize_spectogram(chunk, chunk_stft, title='Spectogram'):\n",
    "    import librosa\n",
    "    fig, axis = plt.subplots(2, 1, figsize=(16, 5))\n",
    "    noverlap = win_length - hop_length\n",
    "    axis[0].imshow(librosa.power_to_db(chunk_stft.abs().detach().numpy() ** 2), origin=\"lower\", aspect=\"auto\", interpolation=\"nearest\")\n",
    "    axis[0].set_yscale(\"symlog\")\n",
    "    axis[0].set_title(title)\n",
    "    if chunk is not None:\n",
    "        axis[1].plot(chunk, linewidth=0.5)\n",
    "        axis[1].grid(True)\n",
    "        axis[1].set_xlim([0, len(chunk)])\n",
    "\n",
    "def to_spectogram():\n",
    "    transform_spectogram = T.Spectrogram(n_fft=n_fft, win_length=win_length, hop_length=hop_length,\\\n",
    "                                         window_fn=torch.hamming_window, power=None)\n",
    "    def inner(chunk, visualize=False, title=''):\n",
    "        chunk_stft = transform_spectogram(chunk)\n",
    "        if visualize:\n",
    "            visualize_spectogram(chunk, chunk_stft, title)\n",
    "\n",
    "        return chunk_stft\n",
    "    return inner\n",
    "\n",
    "if visualize:\n",
    "    print(sample_waveform_chunks[1].shape)\n",
    "    chunk_stft = to_spectogram()(sample_waveform_chunks[1], visualize=True)\n",
    "    chunk_stft.shape"
   ]
  },
  {
   "cell_type": "code",
   "execution_count": 7,
   "id": "df5e3f90-057c-48b1-8340-6b158236836b",
   "metadata": {},
   "outputs": [],
   "source": [
    "class Vis:\n",
    "    def visualize(self, input):\n",
    "        from torchview import draw_graph\n",
    "        y = self(input)\n",
    "        x = draw_graph(self, input_data=input, device='meta', roll=True)\n",
    "        print(f\"--{input.shape}-->f(x)--{y.shape}-->\")\n",
    "        file = x.visual_graph.render(self._get_name())\n",
    "        display(idp.FileLink(\"./\" + file))"
   ]
  },
  {
   "cell_type": "code",
   "execution_count": 8,
   "id": "899ea2b1-dcce-48d8-a01e-5f8e9919bec2",
   "metadata": {},
   "outputs": [
    {
     "name": "stdout",
     "output_type": "stream",
     "text": [
      "40\n"
     ]
    },
    {
     "data": {
      "image/png": "[encoded data removed]",
      "text/plain": [
       "<Figure size 1800x600 with 1 Axes>"
      ]
     },
     "metadata": {},
     "output_type": "display_data"
    },
    {
     "name": "stdout",
     "output_type": "stream",
     "text": [
      "41\n"
     ]
    },
    {
     "data": {
      "image/png": "[encoded data removed]",
      "text/plain": [
       "<Figure size 1800x600 with 1 Axes>"
      ]
     },
     "metadata": {},
     "output_type": "display_data"
    }
   ],
   "source": [
    "import matplotlib.pyplot as plt\n",
    "import numpy as np\n",
    "import torch\n",
    "\n",
    "import numpy as np\n",
    "\n",
    "def get_microtone_name(semitones_from_A4, divisions_per_octave):\n",
    "    notes = [\"C\", \"C#\", \"D\", \"D#\", \"E\", \"F\", \"F#\", \"G\", \"G#\", \"A\", \"A#\", \"B\"]\n",
    "    microtone_index = int((semitones_from_A4 + 9) * divisions_per_octave / 12) % divisions_per_octave\n",
    "    octave = int((semitones_from_A4 + 9) // 12)\n",
    "    note_index = microtone_index // (divisions_per_octave // 12)\n",
    "    microtone_suffix = f\"+{microtone_index % (divisions_per_octave // 12)}\"\n",
    "    return notes[note_index] + (microtone_suffix if microtone_suffix != \"+0\" else \"\") + str(octave)\n",
    "\n",
    "def microtonal_notes(divisions_per_octave):\n",
    "    A4_freq = 440.0\n",
    "    min_freq = 20.0\n",
    "    max_freq = 20000.0\n",
    "    notes = []\n",
    "    freqs = []\n",
    "    current_freq = min_freq\n",
    "    while current_freq <= max_freq:\n",
    "        semitones_from_A4 = 12 * np.log2(current_freq / A4_freq)\n",
    "        nearest_microtone = round(semitones_from_A4 * divisions_per_octave / 12)\n",
    "        nearest_freq = A4_freq * (2 ** (nearest_microtone / divisions_per_octave))\n",
    "\n",
    "        # Check if the frequency is a microtonal (not a standard semitone)\n",
    "        if nearest_microtone % (divisions_per_octave // 12) != 0:\n",
    "            note_name = get_microtone_name(nearest_microtone / (divisions_per_octave / 12), divisions_per_octave)\n",
    "            notes.append(note_name)\n",
    "            freqs.append(nearest_freq)\n",
    "\n",
    "        # Move to the next microtone\n",
    "        current_freq = A4_freq * (2 ** ((nearest_microtone + 1) / divisions_per_octave))\n",
    "    return (notes, freqs)\n",
    "\n",
    "def plot_custom_labeled_attention_distribution(splits):\n",
    "    start_freq = 0\n",
    "    events = []\n",
    "    for end_freq, step_size in splits:\n",
    "        while start_freq < end_freq:\n",
    "            start_freq += step_size\n",
    "            events.append(start_freq)\n",
    "\n",
    "    notes, positions = microtonal_notes(24)\n",
    "    print(len(events))\n",
    "\n",
    "    # Plotting\n",
    "    plt.figure(figsize=(18, 6))\n",
    "    plt.xscale(\"log\")\n",
    "    plt.yticks([])\n",
    "    plt.xticks(positions, notes, rotation=90, fontsize=9)\n",
    "    plt.eventplot(events, orientation='horizontal', colors='b')\n",
    "    \n",
    "\n",
    "    plt.show()\n",
    "\n",
    "plot_custom_labeled_attention_distribution(splits_v7)\n",
    "\n",
    "def evenly_skip_elements(input_list, k):\n",
    "    \"\"\"\n",
    "    Reduce the size of the input list to 'k' by skipping elements evenly.\n",
    "\n",
    "    :param input_list: The original list.\n",
    "    :param k: The desired size of the new list, must be smaller or equal to the size of input_list.\n",
    "    :return: A new list of size 'k'.\n",
    "    \"\"\"\n",
    "    if k > len(input_list):\n",
    "        raise ValueError(\"k must be smaller or equal to the size of the input list\")\n",
    "\n",
    "    # Calculate the step for even skipping\n",
    "    step = len(input_list) / k\n",
    "\n",
    "    # Generate the new list\n",
    "    new_list = [input_list[int(i * step)] for i in range(k)]\n",
    "\n",
    "    return new_list\n",
    "\n",
    "def create_evenly_distributed_splits(num_splits):\n",
    "    _, freqs = microtonal_notes(24)\n",
    "    splits = []\n",
    "    last_freq = 0\n",
    "    for freq in evenly_skip_elements(freqs, num_splits):\n",
    "        splits.append((freq, freq - last_freq))\n",
    "        last_freq = freq\n",
    "    return splits\n",
    "    \n",
    "\n",
    "splits_generic = create_evenly_distributed_splits(41)\n",
    "plot_custom_labeled_attention_distribution(splits_generic)"
   ]
  },
  {
   "cell_type": "code",
   "execution_count": 9,
   "id": "8adf8d8e-eda8-4354-9256-df3786f80e19",
   "metadata": {},
   "outputs": [
    {
     "name": "stdout",
     "output_type": "stream",
     "text": [
      "[(20.015231264080082, 20.015231264080082), (22.466337482065118, 2.4511062179850356), (26.717128381724155, 4.250790899659037), (31.772199163987512, 5.055070782263357), (37.783725305097455, 6.011526141109943), (44.93267496413025, 7.148949659032795), (53.43425676344833, 8.501581799318082), (63.544398327975024, 10.110141564526693), (75.56745061019491, 12.023052282219886), (89.8653499282605, 14.29789931806559), (106.86851352689666, 17.003163598636164), (127.08879665595002, 20.220283129053357), (151.1349012203898, 24.046104564439773), (179.73069985652097, 28.59579863613118), (201.74088950502767, 22.010189648506696), (239.91170118635668, 38.17081168132901), (285.30470202322215, 45.39300083686547), (339.28638158974695, 53.981679566524804), (403.48177901005533, 64.19539742030838), (479.82340237271336, 76.34162336265803), (570.6094040464443, 90.78600167373094), (678.5727631794939, 107.96335913304961), (806.9635580201107, 128.39079484061676), (959.6468047454267, 152.68324672531605), (1141.2188080928886, 181.57200334746187), (1357.1455263589878, 215.92671826609921), (1613.9271160402213, 256.7815896812335), (1919.2936094908534, 305.3664934506321), (2154.334236216193, 235.0406267253395), (2561.9496018022496, 407.61536558605667), (3046.6886947416233, 484.7390929393737), (3623.1438729850915, 576.4551782434683), (4308.668472432386, 685.5245994472943), (5123.899203604499, 815.2307311721133), (6093.377389483247, 969.4781858787474), (7246.287745970186, 1152.9103564869392), (8617.336944864775, 1371.0491988945896), (10247.798407209002, 1630.4614623442267), (12186.754778966497, 1938.9563717574947), (14492.575491940372, 2305.820712973875), (17234.67388972955, 2742.098397789179)]\n"
     ]
    }
   ],
   "source": [
    "# Numbers are exctracted from the paper\n",
    "splits_v7 = [\n",
    "   # below 1kh, bandwidth 100hz\n",
    "   (1000, 100),\n",
    "   # above 1kh and below 4khz, bandwidth 250hz\n",
    "   (4000, 250),\n",
    "   (8000, 500),\n",
    "   (16000, 1000),\n",
    "   (20000, 2000),\n",
    "]\n",
    "\n",
    "print(splits_generic)\n",
    "\n",
    "temporal_dim = int(np.ceil(chunk_size / T.Spectrogram(n_fft=n_fft, win_length=win_length, hop_length=hop_length).hop_length))\n",
    "feature_dim = 128 // 4\n",
    "\n",
    "# Module 1\n",
    "class BandSplit(nn.Module, Vis):\n",
    "    \n",
    "    def __init__(self, splits=splits_generic, fully_connected_out=feature_dim):\n",
    "        super(BandSplit, self).__init__()\n",
    "        \n",
    "        \n",
    "        #### Make splits\n",
    "        # convert fft to freq\n",
    "        freqs = sample_rate * torch.fft.fftfreq(n_fft)[:n_fft // 2 + 1]\n",
    "        freqs[-1] = sample_rate // 2\n",
    "        indices = []\n",
    "        start_freq, start_index = 0, 0\n",
    "        for end_freq, step in splits:\n",
    "            bands = torch.arange(start_freq + step, end_freq + step, step)\n",
    "            start_freq = end_freq\n",
    "            for band in bands:\n",
    "                end_index = freqs[freqs < band].shape[0]\n",
    "                if end_index != start_index:\n",
    "                    indices.append((start_index, end_index))\n",
    "                start_index = end_index\n",
    "        indices.append((start_index, freqs.shape[0]))\n",
    "        self.band_indices = indices\n",
    "        print(self.band_indices)\n",
    "        self.fully_connected_out = fully_connected_out\n",
    "        \n",
    "        self.layer_norms = nn.ModuleList([\n",
    "            # * 2 is for added dim of view_as_real\n",
    "            nn.LayerNorm([(band_end - band_start) * 2, temporal_dim])\n",
    "            for band_start, band_end in self.band_indices\n",
    "        ])\n",
    "        \n",
    "        self.layer_fcs =  nn.ModuleList([\n",
    "            # * 2 is for added dim of view_as_real\n",
    "            nn.Linear((band_end - band_start) * 2, fully_connected_out)\n",
    "            for band_start, band_end in self.band_indices\n",
    "        ])\n",
    "\n",
    "    def forward(self, chunk_ftt):\n",
    "        batch_size = chunk_ftt.size(0)\n",
    "        stack = []\n",
    "        # TODO: can i vectorize this loop?\n",
    "        for i, (band_start, band_end) in enumerate(self.band_indices):\n",
    "            band = chunk_ftt[:, band_start:band_end, :]\n",
    "            # band is shape of (B, F, T)\n",
    "            band = torch.view_as_real(band) # (B, F, T, 2)\n",
    "            # convert to (B, 2, F, T) to be able to feed it to the norm\n",
    "            band = band.permute(0, 3, 1, 2)\n",
    "            \n",
    "            # norm is (..., F, T) and fc is (Fxfully_connected_out)\n",
    "            # we should make norm (..., T, F) in order to feed it to the fc\n",
    "            band = band.reshape(batch_size, -1, band.size(-1)) # -1 = T\n",
    "            norm = self.layer_norms[i](band)\n",
    "            \n",
    "            norm = norm.transpose(-1, -2).contiguous()\n",
    "            fc_y = self.layer_fcs[i](norm)\n",
    "            \n",
    "            stack.append(fc_y)\n",
    "        return torch.stack(stack, dim=1)\n",
    "\n",
    "if visualize:\n",
    "    bandsplit_layer = BandSplit()\n",
    "    bandsplit_y = bandsplit_layer(chunk_stft.unsqueeze(0))\n",
    "    bandsplit_layer.visualize(chunk_stft.unsqueeze(0))"
   ]
  },
  {
   "cell_type": "code",
   "execution_count": null,
   "id": "9b7e2114-8e07-49ed-9442-7f1727d05955",
   "metadata": {},
   "outputs": [],
   "source": []
  },
  {
   "cell_type": "code",
   "execution_count": 10,
   "id": "ca7dfeea-f1c3-41a7-a4ff-06b0f0e39e4d",
   "metadata": {},
   "outputs": [],
   "source": [
    "# Module 2\n",
    "\n",
    "class RNN(nn.Module):\n",
    "    def __init__(self, input_dim_size):\n",
    "        super(RNN, self).__init__()\n",
    "        self.input_dim_size = input_dim_size\n",
    "        # paper specified group norm\n",
    "        self.norm = nn.ModuleList([nn.GroupNorm(self.input_dim_size, self.input_dim_size) for _ in range(2)])\n",
    "        self.blstm = nn.ModuleList([nn.LSTM(self.input_dim_size, self.input_dim_size, bidirectional=True, batch_first=True) for _ in range(2)])\n",
    "        self.fc = nn.ModuleList([nn.Linear(self.input_dim_size * 2, self.input_dim_size) for _ in range(2)])\n",
    "    \n",
    "    def forward(self, x):\n",
    "        # input is b, bands(K), temporal_dim(t), input_dim_size\n",
    "        \n",
    "        \n",
    "        # First loops converts the shape to [B, T, K, N]\n",
    "        # and the second loop converts it back to [B, K, T, N]\n",
    "        for i in range(2):\n",
    "            B, K, T, N = x.shape\n",
    "            out = x.view(B * K, T, N)\n",
    "            out = self.norm[i](out.transpose(-1, -2)).transpose(-1, -2)\n",
    "            out = self.blstm[i](out)[0]\n",
    "            out = self.fc[i](out)\n",
    "            x = out.view(B, K, T, N) + x\n",
    "            x = x.permute(0, 2, 1, 3).contiguous()\n",
    "        \n",
    "        return x\n",
    "\n",
    "num_blstm_layers=24 // 2\n",
    "\n",
    "class BandSequence(nn.Module, Vis):\n",
    "    \n",
    "    def __init__(self, input_dim_size, num_layers=num_blstm_layers):\n",
    "        super(BandSequence, self).__init__()\n",
    "        self.rnns = nn.Sequential(*[RNN(input_dim_size=input_dim_size) for _ in range(num_layers)])\n",
    "        \n",
    "    def forward(self, x):\n",
    "        # (bands, temporal_dim, fc_out)\n",
    "        return self.rnns(x)\n",
    "\n",
    "if visualize:\n",
    "    bandsequence_layer = BandSequence(input_dim_size=bandsplit_layer.fully_connected_out)\n",
    "    bandsequence_y = bandsequence_layer(bandsplit_y)\n",
    "    bandsequence_layer.visualize(bandsplit_y)"
   ]
  },
  {
   "cell_type": "code",
   "execution_count": 11,
   "id": "b9fe8f3d-b9ff-4e24-b532-bbbdfd45b7bf",
   "metadata": {},
   "outputs": [],
   "source": [
    "import torch\n",
    "import torch.nn as nn\n",
    "import torch.nn.functional as F \n",
    "\n",
    "class MaskEstimation(nn.Module, Vis):\n",
    "    def __init__(self, band_indices, fully_connected_out):\n",
    "        super(MaskEstimation, self).__init__()\n",
    "        \n",
    "        max_indice_diff = max([e - s for s, e in band_indices])\n",
    "        num_hiddens = lambda e, s: 3 * (max_indice_diff - (e - s) + 1)\n",
    "        self.layers = nn.ModuleList([\n",
    "            nn.Sequential(\n",
    "                nn.LayerNorm([temporal_dim, fully_connected_out]),\n",
    "                nn.Linear(fully_connected_out, num_hiddens(e, s)),\n",
    "                nn.Tanh(),\n",
    "                # double the output dim to use in GLU\n",
    "                # the extra *2 is for returning as complex\n",
    "                nn.Linear(num_hiddens(e, s), (e - s) * 2 * 2),\n",
    "                nn.GLU()\n",
    "            )\n",
    "            for s, e in band_indices\n",
    "        ])\n",
    "        \n",
    "    def forward(self, x):\n",
    "        # (b, k, temporal_dim, fc_out)\n",
    "        parts = []\n",
    "        for i in range(x.shape[1]):\n",
    "            y = self.layers[i](x[:, i]).contiguous()\n",
    "            B, T, F = y.shape\n",
    "            y = y.permute(0, 2, 1).contiguous() # B F T\n",
    "            # basically halve the freq dim and use it for phasee\n",
    "            y = y.view(B, 2, F // 2, T) # (B, 2, F, T)\n",
    "            y = y.permute(0, 2, 3, 1) # (B, F, T, 2)\n",
    "            y = torch.view_as_complex(y.contiguous())\n",
    "            \n",
    "            parts.append(y)\n",
    "        \n",
    "        # (b, f, t)\n",
    "        return torch.cat(parts, dim=-2)\n",
    "\n",
    "    \n",
    "if visualize:   \n",
    "    mask_layer = MaskEstimation(band_indices=bandsplit_layer.band_indices, fully_connected_out=bandsplit_layer.fully_connected_out)\n",
    "    mask_y = mask_layer(bandsequence_y)\n",
    "    mask_layer.visualize(bandsequence_y)"
   ]
  },
  {
   "cell_type": "code",
   "execution_count": 12,
   "id": "848d0886-e194-4a72-8a81-b27554be18a6",
   "metadata": {},
   "outputs": [],
   "source": [
    "class BSRNN(nn.Module, Vis):\n",
    "    \n",
    "    def __init__(self):\n",
    "        super(BSRNN, self).__init__()\n",
    "        \n",
    "        self.split = BandSplit()\n",
    "        self.sequence = BandSequence(input_dim_size=self.split.fully_connected_out)\n",
    "        self.mask = MaskEstimation(band_indices=self.split.band_indices, fully_connected_out=self.split.fully_connected_out)\n",
    "\n",
    "    def forward(self, chunk_fft):\n",
    "        \n",
    "        mean = chunk_fft.mean(dim=(1, 2), keepdim=True)\n",
    "        std = chunk_fft.std(dim=(1, 2), keepdim=True)\n",
    "        chunk_fft = (chunk_fft - mean) / (std + 1e-5)\n",
    "        \n",
    "        y = self.split(chunk_fft)\n",
    "        y = self.sequence(y)\n",
    "        mask = self.mask(y)\n",
    "        \n",
    "        mask = mask * std + mean\n",
    "\n",
    "        return mask\n",
    "\n",
    "if visualize:\n",
    "    bsrnn = BSRNN().cuda()\n",
    "    bsrnn_y = bsrnn(chunk_stft.unsqueeze(0).cuda())\n",
    "    bsrnn.visualize(chunk_stft.unsqueeze(0).cuda())"
   ]
  },
  {
   "cell_type": "code",
   "execution_count": 13,
   "id": "4ac4f830-f48c-4900-903b-593ab23c4bd0",
   "metadata": {},
   "outputs": [],
   "source": [
    "\n",
    "def from_spectogram():\n",
    "    # We are using GriffinLim to ensure the output size\n",
    "    transform_inv_spectogram = T.InverseSpectrogram(n_fft=n_fft, win_length=win_length, hop_length=hop_length,\\\n",
    "                                                    window_fn=torch.hamming_window)\n",
    "\n",
    "    def inner(chunk_stft, visualize=False):\n",
    "        chunk = transform_inv_spectogram(chunk_stft)\n",
    "    \n",
    "        if visualize:\n",
    "            visualize_spectogram(chunk.detach().numpy(), chunk_stft)\n",
    "\n",
    "        return chunk\n",
    "    return inner\n",
    "\n",
    "if visualize:\n",
    "    print(bsrnn_y.shape)\n",
    "    masked_complex = chunk_stft * bsrnn_y[0].cpu()\n",
    "\n",
    "    chunk_y = from_spectogram()(masked_complex, visualize=True)\n",
    "    chunk_y.shape"
   ]
  },
  {
   "cell_type": "code",
   "execution_count": 14,
   "id": "cf3b1032-7bc6-40f9-9745-854c3be034b8",
   "metadata": {},
   "outputs": [],
   "source": [
    "if visualize and False:\n",
    "    chunk_x = de_normalize_waveform(sample_waveform_chunks[1], gain_factor, peak_gain_factor)\n",
    "    chunk_y = de_normalize_waveform(chunk_y, gain_factor, peak_gain_factor)\n",
    "\n",
    "    print(\"In:\")\n",
    "    show_idp_audio(chunk_x)\n",
    "    print(\"Out:\")\n",
    "    show_idp_audio(chunk_y.detach().numpy())\n",
    "    print(chunk_y.shape)\n",
    "    chunk_size"
   ]
  },
  {
   "cell_type": "code",
   "execution_count": 15,
   "id": "05ed9801-0fde-4110-a40f-95b20d787857",
   "metadata": {},
   "outputs": [
    {
     "data": {
      "text/plain": [
       "37554"
      ]
     },
     "execution_count": 15,
     "metadata": {},
     "output_type": "execute_result"
    }
   ],
   "source": [
    "import gc\n",
    "torch.cuda.empty_cache()\n",
    "gc.collect()"
   ]
  },
  {
   "cell_type": "code",
   "execution_count": 16,
   "id": "8b72ccde-384a-40da-b144-1206e527d4e5",
   "metadata": {},
   "outputs": [],
   "source": [
    "# Put Everything Together! audio in, audio out!\n",
    "\n",
    "\n",
    "class MSSBandSplitRNN(nn.Module, Vis):\n",
    "    def __init__(self):\n",
    "        super(MSSBandSplitRNN, self).__init__()\n",
    "        self.to_spectogram = to_spectogram()\n",
    "        self.from_spectogram = from_spectogram()\n",
    "        self.bsrnn = BSRNN()\n",
    "        \n",
    "    def forward(self, waveform):\n",
    "        \"\"\" Waveform in -> Waveform out :) \"\"\"\n",
    "        \n",
    "        # 1) normalize\n",
    "        # 2) split\n",
    "        # 3) feed to bsrnn\n",
    "        # 4) convert spectogram to audio\n",
    "        # 5) merge all splits\n",
    "        # 6) de-normalize\n",
    "        \n",
    "        normal_waveform, gain_factor, peak_gain_factor = normalize_waveform(waveform)\n",
    "        splits, padding_length = split(normal_waveform)\n",
    "        masked_splits = [() for _ in range(len(splits))]\n",
    "        for i, x_split in enumerate(splits):\n",
    "            split_stft = self.to_spectogram(x_split)\n",
    "            mask = self.bsrnn(split_stft.unsqueeze(0))[0]\n",
    "            \n",
    "            masked_complex = mask\n",
    "            \n",
    "            wave = self.from_spectogram(masked_complex)\n",
    "            masked_splits[i] = wave\n",
    "        \n",
    "        masked_waveform = merge(masked_splits, padding_length)\n",
    "        y = de_normalize_waveform(masked_waveform, gain_factor, peak_gain_factor)\n",
    "        return y\n",
    "\n",
    "if visualize:\n",
    "    torch.set_default_device('cuda')\n",
    "    with torch.no_grad():\n",
    "        model = MSSBandSplitRNN()\n",
    "        y = model(sample_waveform.cuda())\n",
    "\n",
    "\n",
    "    print(\"In:\")\n",
    "    show_idp_audio(sample_waveform)\n",
    "    print(\"Out:\")\n",
    "    show_idp_audio(y.cpu().detach().numpy())"
   ]
  },
  {
   "cell_type": "markdown",
   "id": "b004c354-c93f-4d13-a326-3197b0b8a38f",
   "metadata": {},
   "source": [
    "# 2) Train"
   ]
  },
  {
   "cell_type": "code",
   "execution_count": 17,
   "id": "75190bcb-729e-4b92-ba27-f8b71421137d",
   "metadata": {},
   "outputs": [],
   "source": [
    "class CustomLoss(nn.Module):\n",
    "    \n",
    "    def __init__(self):\n",
    "        super(CustomLoss, self).__init__()\n",
    "        self.mae_stft_real = nn.L1Loss()\n",
    "        self.mae_stft_imag = nn.L1Loss()\n",
    "        self.mae_inv_stft  = nn.L1Loss()\n",
    "    \n",
    "    def forward(self, pred_stft, target_stft,  pred_inv_stft, target_inv_stft):\n",
    "        loss_r = self.mae_stft_real(pred_stft.real, target_stft.real)\n",
    "        loss_i = self.mae_stft_imag(pred_stft.imag, target_stft.imag)\n",
    "        loss_t = self.mae_inv_stft(pred_inv_stft, target_inv_stft)\n",
    "        loss = loss_r + loss_i + loss_t\n",
    "        return loss\n",
    "\n",
    "def compute_usdr(pred, target, delta = 1e-7):\n",
    "    if pred.shape[0] < target.shape[0]:\n",
    "        padding = target.shape[0] - pred.shape[0]\n",
    "        pred = torch.nn.functional.pad(pred, (0, padding), \"constant\", 0)\n",
    "    num = torch.sum(torch.square(target))\n",
    "    den = torch.sum(torch.square(target - pred))\n",
    "    num += delta\n",
    "    den += delta\n",
    "    usdr = 10 * torch.log10(num / den)\n",
    "    return usdr.mean()\n",
    "\n",
    "if visualize and False:\n",
    "    torch.set_default_device('cpu')\n",
    "    target_wf = load_audio(\"drums.wav\")\n",
    "    normal_target_wf, gain_factor, peak_gain_factor = normalize_waveform(target_wf)\n",
    "    target_wf_chunks, padding_length = split(normal_target_wf)\n",
    "    stft = to_spectogram()\n",
    "    inv_stft = from_spectogram()\n",
    "    print(\"target:\")\n",
    "    show_idp_audio(target_wf_chunks[1])\n",
    "    target_stft = stft(target_wf_chunks[1], visualize=True, title=\"Target\")\n",
    "    print(\"input:\")\n",
    "    show_idp_audio(sample_waveform_chunks[1])\n",
    "    sample_stft = stft(sample_waveform_chunks[1], visualize=True, title=\"Input\")\n",
    "\n",
    "    # x * mask = target_stft / x\n",
    "    # f(x) = stft - \n",
    "\n",
    "    mask_stft = target_stft / sample_stft\n",
    "    visualize_spectogram(inv_stft(mask_stft), mask_stft, title=\"Mask stft\")\n",
    "    print(\"Mask:\")\n",
    "    show_idp_audio(inv_stft(mask_stft))\n",
    "    target_y = sample_stft * mask_stft\n",
    "    print(\"Target_y: \")\n",
    "    show_idp_audio(inv_stft(target_y))\n",
    "    visualize_spectogram(inv_stft(target_y), target_y, title=\"Target_y stft calc\")\n",
    "\n",
    "\n",
    "    loss_fn = CustomLoss()\n",
    "    loss = loss_fn.forward(target_y, target_stft, inv_stft(target_y), inv_stft(target_stft))\n",
    "    print(f\"loss: {loss}\")"
   ]
  },
  {
   "cell_type": "code",
   "execution_count": 18,
   "id": "e72fc97f-3d1c-4faa-8f6f-ec06f611d772",
   "metadata": {},
   "outputs": [],
   "source": [
    "import os\n",
    "import random\n",
    "import math\n",
    "\n",
    "# Dataloader\n",
    "\n",
    "torch.set_default_device('cpu')\n",
    "\n",
    "class Dataset(torch.utils.data.IterableDataset):\n",
    "    def __init__(self, dir_=\"/home/sahand/BandSplit-RNN/musdb18hq/\", validation=False):\n",
    "        super(Dataset, self).__init__()\n",
    "        path = dir_ + (\"test\" if validation else \"train\")\n",
    "        print(path)\n",
    "        self.files = [entry for entry in os.scandir(path) if entry.is_dir()]\n",
    "        random.shuffle(self.files)\n",
    "    \n",
    "    def iterator(self):\n",
    "        torch.set_default_device('cpu')\n",
    "        to_stft = to_spectogram()\n",
    "        for i in range(self.start_index, self.end_index):\n",
    "            d = self.files[i]\n",
    "            mixture = f\"{d.path}/mixture.wav\"\n",
    "            target = f\"{d.path}/drums.wav\"\n",
    "\n",
    "            normal_mix, _, _ = normalize_waveform(load_audio(mixture))\n",
    "            normal_target, _, _ = normalize_waveform(load_audio(target))\n",
    "\n",
    "            normal_mix, _ = split(normal_mix)\n",
    "            normal_target, _ = split(normal_target)\n",
    "\n",
    "            for mix, target in zip(normal_mix, normal_target):\n",
    "                mix_stft = to_stft(mix)\n",
    "                target_stft = to_stft(target)\n",
    "                # Accumulate STFTs in the batch\n",
    "                yield (mix_stft, target_stft)\n",
    "\n",
    "    def __iter__(self):\n",
    "        worker_info = torch.utils.data.get_worker_info()\n",
    "        if worker_info is not None:\n",
    "            total_files = len(self.files)\n",
    "            per_worker = int(math.ceil(total_files / float(worker_info.num_workers)))\n",
    "            self.start_index = worker_info.id * per_worker\n",
    "            self.end_index = min(self.start_index + per_worker, total_files)\n",
    "        else:\n",
    "            self.start_index = 0\n",
    "            self.end_index = len(self.files)\n",
    "\n",
    "        return iter(self.iterator())"
   ]
  },
  {
   "cell_type": "code",
   "execution_count": 19,
   "id": "a75952a2-8af0-465a-8db3-9259e55768cc",
   "metadata": {},
   "outputs": [
    {
     "data": {
      "text/plain": [
       "0"
      ]
     },
     "execution_count": 19,
     "metadata": {},
     "output_type": "execute_result"
    }
   ],
   "source": [
    "torch.cuda.empty_cache()\n",
    "gc.collect()"
   ]
  },
  {
   "cell_type": "code",
   "execution_count": 24,
   "id": "3bcf93d8-3df8-4651-8d0f-23a4d9294ecd",
   "metadata": {},
   "outputs": [
    {
     "name": "stdout",
     "output_type": "stream",
     "text": [
      "/home/sahand/BandSplit-RNN/musdb18hq/train\n",
      "/home/sahand/BandSplit-RNN/musdb18hq/test\n",
      "[(0, 1), (1, 2), (2, 3), (3, 4), (4, 5), (5, 6), (6, 8), (8, 9), (9, 10), (10, 12), (12, 14), (14, 16), (16, 19), (19, 23), (23, 27), (27, 32), (32, 38), (38, 45), (45, 53), (53, 64), (64, 75), (75, 90), (90, 101), (101, 119), (119, 142), (142, 169), (169, 201), (201, 238), (238, 283), (283, 337), (337, 401), (401, 464), (464, 476), (476, 566), (566, 674), (674, 801), (801, 928), (928, 1025)]\n"
     ]
    }
   ],
   "source": [
    "batch_size=95\n",
    "clip_grad_norm=5\n",
    "\n",
    "device = torch.device(\"cuda\")\n",
    "\n",
    "train_loader = torch.utils.data.DataLoader(Dataset(validation=False), num_workers=1, \n",
    "                                          batch_size=batch_size, drop_last=True,\n",
    "                                          prefetch_factor=4,\n",
    "                                          persistent_workers=True)\n",
    "val_loader   = torch.utils.data.DataLoader(Dataset(validation=True), num_workers=1, \n",
    "                                          batch_size=batch_size, drop_last=True,\n",
    "                                          prefetch_factor=4,\n",
    "                                          persistent_workers=True)\n",
    "\n",
    "\n",
    "model = BSRNN().to('cuda')\n",
    "# model = torch.load(\"./drums-reversed-mask/bsrnn-102-0.031533900648355484.pt\")\n",
    "import datetime\n",
    "\n",
    "name = f\"generic-splits\"\n",
    "prefix=f\"./train-logs/{name}-{datetime.datetime.now()}\"\n",
    "if not os.path.exists(name):\n",
    "    os.makedirs(name)"
   ]
  },
  {
   "cell_type": "code",
   "execution_count": 25,
   "id": "0c1f2310-9d39-4b67-aef8-dbe262bd1ab2",
   "metadata": {},
   "outputs": [
    {
     "data": {
      "text/plain": [
       "2098025"
      ]
     },
     "execution_count": 25,
     "metadata": {},
     "output_type": "execute_result"
    }
   ],
   "source": [
    "def count_parameters(model):\n",
    "    return sum(p.numel() for p in model.parameters() if p.requires_grad)\n",
    "\n",
    "count_parameters(model)"
   ]
  },
  {
   "cell_type": "code",
   "execution_count": 26,
   "id": "3db422f6-b9d6-4755-9fb1-3e1eff52ced3",
   "metadata": {},
   "outputs": [
    {
     "data": {
      "application/vnd.jupyter.widget-view+json": {
       "model_id": "05b6358528bf47bf9e4b3630a72bee4b",
       "version_major": 2,
       "version_minor": 0
      },
      "text/plain": [
       "[1/?]   0%|           [00:00<?]"
      ]
     },
     "metadata": {},
     "output_type": "display_data"
    },
    {
     "data": {
      "application/vnd.jupyter.widget-view+json": {
       "model_id": "65097a7df1e442708e7f7967ce2ac645",
       "version_major": 2,
       "version_minor": 0
      },
      "text/plain": [
       "[1/241]   0%|           [00:00<?]"
      ]
     },
     "metadata": {},
     "output_type": "display_data"
    },
    {
     "data": {
      "application/vnd.jupyter.widget-view+json": {
       "model_id": "939d2bf321464ee281ce894f45846f5c",
       "version_major": 2,
       "version_minor": 0
      },
      "text/plain": [
       "[1/241]   0%|           [00:00<?]"
      ]
     },
     "metadata": {},
     "output_type": "display_data"
    },
    {
     "data": {
      "application/vnd.jupyter.widget-view+json": {
       "model_id": "76817e396a8540d2abdd76e4707a0ceb",
       "version_major": 2,
       "version_minor": 0
      },
      "text/plain": [
       "[1/241]   0%|           [00:00<?]"
      ]
     },
     "metadata": {},
     "output_type": "display_data"
    },
    {
     "data": {
      "application/vnd.jupyter.widget-view+json": {
       "model_id": "26847df0dac440929abff37dc37f06f8",
       "version_major": 2,
       "version_minor": 0
      },
      "text/plain": [
       "[1/241]   0%|           [00:00<?]"
      ]
     },
     "metadata": {},
     "output_type": "display_data"
    },
    {
     "data": {
      "application/vnd.jupyter.widget-view+json": {
       "model_id": "47e64706185540ab80a54eefea9285fd",
       "version_major": 2,
       "version_minor": 0
      },
      "text/plain": [
       "[1/241]   0%|           [00:00<?]"
      ]
     },
     "metadata": {},
     "output_type": "display_data"
    },
    {
     "data": {
      "application/vnd.jupyter.widget-view+json": {
       "model_id": "c7631b1645904486b6171f7a0ee6b5c3",
       "version_major": 2,
       "version_minor": 0
      },
      "text/plain": [
       "[1/241]   0%|           [00:00<?]"
      ]
     },
     "metadata": {},
     "output_type": "display_data"
    },
    {
     "data": {
      "application/vnd.jupyter.widget-view+json": {
       "model_id": "6b76a459401940869b0665c5d9302408",
       "version_major": 2,
       "version_minor": 0
      },
      "text/plain": [
       "[1/241]   0%|           [00:00<?]"
      ]
     },
     "metadata": {},
     "output_type": "display_data"
    },
    {
     "data": {
      "application/vnd.jupyter.widget-view+json": {
       "model_id": "8a800f4e90754d0bb816b524468ea8b9",
       "version_major": 2,
       "version_minor": 0
      },
      "text/plain": [
       "[1/241]   0%|           [00:00<?]"
      ]
     },
     "metadata": {},
     "output_type": "display_data"
    },
    {
     "data": {
      "application/vnd.jupyter.widget-view+json": {
       "model_id": "a10dc9820454422e81f0377d9e8d26b0",
       "version_major": 2,
       "version_minor": 0
      },
      "text/plain": [
       "[1/241]   0%|           [00:00<?]"
      ]
     },
     "metadata": {},
     "output_type": "display_data"
    },
    {
     "data": {
      "application/vnd.jupyter.widget-view+json": {
       "model_id": "ef0375c1c7834dc7bdadacbc03310faf",
       "version_major": 2,
       "version_minor": 0
      },
      "text/plain": [
       "[1/241]   0%|           [00:00<?]"
      ]
     },
     "metadata": {},
     "output_type": "display_data"
    },
    {
     "data": {
      "application/vnd.jupyter.widget-view+json": {
       "model_id": "e31373c2f44540668a55d4da45848709",
       "version_major": 2,
       "version_minor": 0
      },
      "text/plain": [
       "[1/241]   0%|           [00:00<?]"
      ]
     },
     "metadata": {},
     "output_type": "display_data"
    },
    {
     "data": {
      "application/vnd.jupyter.widget-view+json": {
       "model_id": "35db888120984814bbf1d08601f74807",
       "version_major": 2,
       "version_minor": 0
      },
      "text/plain": [
       "[1/241]   0%|           [00:00<?]"
      ]
     },
     "metadata": {},
     "output_type": "display_data"
    },
    {
     "data": {
      "application/vnd.jupyter.widget-view+json": {
       "model_id": "811de469e3f84f19809e00d756dd81ec",
       "version_major": 2,
       "version_minor": 0
      },
      "text/plain": [
       "[1/241]   0%|           [00:00<?]"
      ]
     },
     "metadata": {},
     "output_type": "display_data"
    },
    {
     "data": {
      "application/vnd.jupyter.widget-view+json": {
       "model_id": "fd32f79c4e504015b759d81c909a46e2",
       "version_major": 2,
       "version_minor": 0
      },
      "text/plain": [
       "[1/241]   0%|           [00:00<?]"
      ]
     },
     "metadata": {},
     "output_type": "display_data"
    },
    {
     "data": {
      "application/vnd.jupyter.widget-view+json": {
       "model_id": "a73f83a4efa141c08da33d2be56fff53",
       "version_major": 2,
       "version_minor": 0
      },
      "text/plain": [
       "[1/241]   0%|           [00:00<?]"
      ]
     },
     "metadata": {},
     "output_type": "display_data"
    },
    {
     "data": {
      "application/vnd.jupyter.widget-view+json": {
       "model_id": "14fff486e75941f68fd8f3f7b7c665de",
       "version_major": 2,
       "version_minor": 0
      },
      "text/plain": [
       "[1/241]   0%|           [00:00<?]"
      ]
     },
     "metadata": {},
     "output_type": "display_data"
    },
    {
     "data": {
      "application/vnd.jupyter.widget-view+json": {
       "model_id": "05d69d81d48d4e9a830b513baed1ffce",
       "version_major": 2,
       "version_minor": 0
      },
      "text/plain": [
       "[1/241]   0%|           [00:00<?]"
      ]
     },
     "metadata": {},
     "output_type": "display_data"
    },
    {
     "data": {
      "application/vnd.jupyter.widget-view+json": {
       "model_id": "305fc0963fca4a50ace9f449d99ea208",
       "version_major": 2,
       "version_minor": 0
      },
      "text/plain": [
       "[1/241]   0%|           [00:00<?]"
      ]
     },
     "metadata": {},
     "output_type": "display_data"
    },
    {
     "data": {
      "application/vnd.jupyter.widget-view+json": {
       "model_id": "bd1e17988a174738bb05779c5c2ff37b",
       "version_major": 2,
       "version_minor": 0
      },
      "text/plain": [
       "[1/241]   0%|           [00:00<?]"
      ]
     },
     "metadata": {},
     "output_type": "display_data"
    },
    {
     "data": {
      "application/vnd.jupyter.widget-view+json": {
       "model_id": "a17bfa506eab4eb89058edce78f0efdb",
       "version_major": 2,
       "version_minor": 0
      },
      "text/plain": [
       "[1/241]   0%|           [00:00<?]"
      ]
     },
     "metadata": {},
     "output_type": "display_data"
    },
    {
     "data": {
      "application/vnd.jupyter.widget-view+json": {
       "model_id": "fd32443e89b14a2b913a5f065050590c",
       "version_major": 2,
       "version_minor": 0
      },
      "text/plain": [
       "[1/241]   0%|           [00:00<?]"
      ]
     },
     "metadata": {},
     "output_type": "display_data"
    },
    {
     "data": {
      "application/vnd.jupyter.widget-view+json": {
       "model_id": "8fd1030c385847dda456da696b0bef9c",
       "version_major": 2,
       "version_minor": 0
      },
      "text/plain": [
       "[1/241]   0%|           [00:00<?]"
      ]
     },
     "metadata": {},
     "output_type": "display_data"
    },
    {
     "data": {
      "application/vnd.jupyter.widget-view+json": {
       "model_id": "77b7469e52d44273ad0003dd95718e79",
       "version_major": 2,
       "version_minor": 0
      },
      "text/plain": [
       "[1/241]   0%|           [00:00<?]"
      ]
     },
     "metadata": {},
     "output_type": "display_data"
    },
    {
     "data": {
      "application/vnd.jupyter.widget-view+json": {
       "model_id": "3de0cb3f6ade45c1965c2b07d6a022b8",
       "version_major": 2,
       "version_minor": 0
      },
      "text/plain": [
       "[1/241]   0%|           [00:00<?]"
      ]
     },
     "metadata": {},
     "output_type": "display_data"
    },
    {
     "data": {
      "application/vnd.jupyter.widget-view+json": {
       "model_id": "e3422dd217aa4e90b125b525ab24410c",
       "version_major": 2,
       "version_minor": 0
      },
      "text/plain": [
       "[1/241]   0%|           [00:00<?]"
      ]
     },
     "metadata": {},
     "output_type": "display_data"
    },
    {
     "data": {
      "application/vnd.jupyter.widget-view+json": {
       "model_id": "6bd752ac7a6f43388896b06c9fd57840",
       "version_major": 2,
       "version_minor": 0
      },
      "text/plain": [
       "[1/241]   0%|           [00:00<?]"
      ]
     },
     "metadata": {},
     "output_type": "display_data"
    },
    {
     "data": {
      "application/vnd.jupyter.widget-view+json": {
       "model_id": "c807d8c394b24b609147629a8cdbda22",
       "version_major": 2,
       "version_minor": 0
      },
      "text/plain": [
       "[1/241]   0%|           [00:00<?]"
      ]
     },
     "metadata": {},
     "output_type": "display_data"
    },
    {
     "data": {
      "application/vnd.jupyter.widget-view+json": {
       "model_id": "e4f1a1a36e444b8e94e6f8ab3ddedb41",
       "version_major": 2,
       "version_minor": 0
      },
      "text/plain": [
       "[1/241]   0%|           [00:00<?]"
      ]
     },
     "metadata": {},
     "output_type": "display_data"
    },
    {
     "data": {
      "application/vnd.jupyter.widget-view+json": {
       "model_id": "00f353083f68449ca358697c8d2cac48",
       "version_major": 2,
       "version_minor": 0
      },
      "text/plain": [
       "[1/241]   0%|           [00:00<?]"
      ]
     },
     "metadata": {},
     "output_type": "display_data"
    },
    {
     "data": {
      "application/vnd.jupyter.widget-view+json": {
       "model_id": "4451a00701c64811a1bbda721334bbf7",
       "version_major": 2,
       "version_minor": 0
      },
      "text/plain": [
       "[1/241]   0%|           [00:00<?]"
      ]
     },
     "metadata": {},
     "output_type": "display_data"
    },
    {
     "data": {
      "application/vnd.jupyter.widget-view+json": {
       "model_id": "d4b144ddfca646c5b2eed3c75c7cdc83",
       "version_major": 2,
       "version_minor": 0
      },
      "text/plain": [
       "[1/241]   0%|           [00:00<?]"
      ]
     },
     "metadata": {},
     "output_type": "display_data"
    },
    {
     "data": {
      "application/vnd.jupyter.widget-view+json": {
       "model_id": "813e1d346b1c414582fc330929e3ddff",
       "version_major": 2,
       "version_minor": 0
      },
      "text/plain": [
       "[1/241]   0%|           [00:00<?]"
      ]
     },
     "metadata": {},
     "output_type": "display_data"
    },
    {
     "data": {
      "application/vnd.jupyter.widget-view+json": {
       "model_id": "2c344ed7e34a4214a71cd941ba6e97f1",
       "version_major": 2,
       "version_minor": 0
      },
      "text/plain": [
       "[1/241]   0%|           [00:00<?]"
      ]
     },
     "metadata": {},
     "output_type": "display_data"
    },
    {
     "data": {
      "application/vnd.jupyter.widget-view+json": {
       "model_id": "c2608f97dd5941f5b94a8de450288c56",
       "version_major": 2,
       "version_minor": 0
      },
      "text/plain": [
       "[1/241]   0%|           [00:00<?]"
      ]
     },
     "metadata": {},
     "output_type": "display_data"
    },
    {
     "data": {
      "application/vnd.jupyter.widget-view+json": {
       "model_id": "70e887589bff4fd8bafc688d4854be05",
       "version_major": 2,
       "version_minor": 0
      },
      "text/plain": [
       "[1/241]   0%|           [00:00<?]"
      ]
     },
     "metadata": {},
     "output_type": "display_data"
    },
    {
     "data": {
      "application/vnd.jupyter.widget-view+json": {
       "model_id": "7157a5ecda364c419ff5eb17ae51d514",
       "version_major": 2,
       "version_minor": 0
      },
      "text/plain": [
       "[1/241]   0%|           [00:00<?]"
      ]
     },
     "metadata": {},
     "output_type": "display_data"
    },
    {
     "data": {
      "application/vnd.jupyter.widget-view+json": {
       "model_id": "2877f2985b1a4926801a53c228edcb7d",
       "version_major": 2,
       "version_minor": 0
      },
      "text/plain": [
       "[1/241]   0%|           [00:00<?]"
      ]
     },
     "metadata": {},
     "output_type": "display_data"
    },
    {
     "data": {
      "application/vnd.jupyter.widget-view+json": {
       "model_id": "a0e441503cbc428bb943a5601e30cda6",
       "version_major": 2,
       "version_minor": 0
      },
      "text/plain": [
       "[1/241]   0%|           [00:00<?]"
      ]
     },
     "metadata": {},
     "output_type": "display_data"
    },
    {
     "data": {
      "application/vnd.jupyter.widget-view+json": {
       "model_id": "b11a113cd70944b5a1154ad037f1502b",
       "version_major": 2,
       "version_minor": 0
      },
      "text/plain": [
       "[1/241]   0%|           [00:00<?]"
      ]
     },
     "metadata": {},
     "output_type": "display_data"
    },
    {
     "data": {
      "application/vnd.jupyter.widget-view+json": {
       "model_id": "5aa6aef38d6643739e4feac5d3fe6a04",
       "version_major": 2,
       "version_minor": 0
      },
      "text/plain": [
       "[1/241]   0%|           [00:00<?]"
      ]
     },
     "metadata": {},
     "output_type": "display_data"
    },
    {
     "data": {
      "application/vnd.jupyter.widget-view+json": {
       "model_id": "ba652c3ad82a401292ed65a86ba16d54",
       "version_major": 2,
       "version_minor": 0
      },
      "text/plain": [
       "[1/241]   0%|           [00:00<?]"
      ]
     },
     "metadata": {},
     "output_type": "display_data"
    },
    {
     "data": {
      "application/vnd.jupyter.widget-view+json": {
       "model_id": "64ba4a12ba4c4fc9bd1b96070cc1123d",
       "version_major": 2,
       "version_minor": 0
      },
      "text/plain": [
       "[1/241]   0%|           [00:00<?]"
      ]
     },
     "metadata": {},
     "output_type": "display_data"
    },
    {
     "data": {
      "application/vnd.jupyter.widget-view+json": {
       "model_id": "7853cdff66d740afbbba65a948787600",
       "version_major": 2,
       "version_minor": 0
      },
      "text/plain": [
       "[1/241]   0%|           [00:00<?]"
      ]
     },
     "metadata": {},
     "output_type": "display_data"
    },
    {
     "data": {
      "application/vnd.jupyter.widget-view+json": {
       "model_id": "0134be2b828147729f4e7ba17e2d720d",
       "version_major": 2,
       "version_minor": 0
      },
      "text/plain": [
       "[1/241]   0%|           [00:00<?]"
      ]
     },
     "metadata": {},
     "output_type": "display_data"
    },
    {
     "data": {
      "application/vnd.jupyter.widget-view+json": {
       "model_id": "a0de4d9813b24a3c9860a93a3761549a",
       "version_major": 2,
       "version_minor": 0
      },
      "text/plain": [
       "[1/241]   0%|           [00:00<?]"
      ]
     },
     "metadata": {},
     "output_type": "display_data"
    },
    {
     "data": {
      "application/vnd.jupyter.widget-view+json": {
       "model_id": "38b39492a1d14438b54d07ffb7082350",
       "version_major": 2,
       "version_minor": 0
      },
      "text/plain": [
       "[1/241]   0%|           [00:00<?]"
      ]
     },
     "metadata": {},
     "output_type": "display_data"
    },
    {
     "data": {
      "application/vnd.jupyter.widget-view+json": {
       "model_id": "68ceb7659108448bbc2baa0784352721",
       "version_major": 2,
       "version_minor": 0
      },
      "text/plain": [
       "[1/241]   0%|           [00:00<?]"
      ]
     },
     "metadata": {},
     "output_type": "display_data"
    },
    {
     "data": {
      "application/vnd.jupyter.widget-view+json": {
       "model_id": "b9bb747c28f740ca9a7d3ea248780fa2",
       "version_major": 2,
       "version_minor": 0
      },
      "text/plain": [
       "[1/241]   0%|           [00:00<?]"
      ]
     },
     "metadata": {},
     "output_type": "display_data"
    },
    {
     "data": {
      "application/vnd.jupyter.widget-view+json": {
       "model_id": "37499b32df194eafa603f8f6ec78eaa1",
       "version_major": 2,
       "version_minor": 0
      },
      "text/plain": [
       "[1/241]   0%|           [00:00<?]"
      ]
     },
     "metadata": {},
     "output_type": "display_data"
    },
    {
     "data": {
      "application/vnd.jupyter.widget-view+json": {
       "model_id": "fecf40ba214b45899864481adb693523",
       "version_major": 2,
       "version_minor": 0
      },
      "text/plain": [
       "[1/241]   0%|           [00:00<?]"
      ]
     },
     "metadata": {},
     "output_type": "display_data"
    },
    {
     "data": {
      "application/vnd.jupyter.widget-view+json": {
       "model_id": "c0e042b3cbc14d0f92aa854d4e534139",
       "version_major": 2,
       "version_minor": 0
      },
      "text/plain": [
       "[1/241]   0%|           [00:00<?]"
      ]
     },
     "metadata": {},
     "output_type": "display_data"
    },
    {
     "data": {
      "application/vnd.jupyter.widget-view+json": {
       "model_id": "41094d213ffa4a3db0e21abfac30dded",
       "version_major": 2,
       "version_minor": 0
      },
      "text/plain": [
       "[1/241]   0%|           [00:00<?]"
      ]
     },
     "metadata": {},
     "output_type": "display_data"
    },
    {
     "data": {
      "application/vnd.jupyter.widget-view+json": {
       "model_id": "74427f2dd5a247efb96e89c3ce006382",
       "version_major": 2,
       "version_minor": 0
      },
      "text/plain": [
       "[1/241]   0%|           [00:00<?]"
      ]
     },
     "metadata": {},
     "output_type": "display_data"
    },
    {
     "data": {
      "application/vnd.jupyter.widget-view+json": {
       "model_id": "42b7356168a84a39b8702d623331fe8e",
       "version_major": 2,
       "version_minor": 0
      },
      "text/plain": [
       "[1/241]   0%|           [00:00<?]"
      ]
     },
     "metadata": {},
     "output_type": "display_data"
    },
    {
     "data": {
      "application/vnd.jupyter.widget-view+json": {
       "model_id": "3c0ada17d86d442a98f70756ddfe9210",
       "version_major": 2,
       "version_minor": 0
      },
      "text/plain": [
       "[1/241]   0%|           [00:00<?]"
      ]
     },
     "metadata": {},
     "output_type": "display_data"
    },
    {
     "data": {
      "application/vnd.jupyter.widget-view+json": {
       "model_id": "56e0e6aa75c14d4280e4f00bf96c15b3",
       "version_major": 2,
       "version_minor": 0
      },
      "text/plain": [
       "[1/241]   0%|           [00:00<?]"
      ]
     },
     "metadata": {},
     "output_type": "display_data"
    },
    {
     "data": {
      "application/vnd.jupyter.widget-view+json": {
       "model_id": "9b28a341bcb74058ad9652c6db9efdf5",
       "version_major": 2,
       "version_minor": 0
      },
      "text/plain": [
       "[1/241]   0%|           [00:00<?]"
      ]
     },
     "metadata": {},
     "output_type": "display_data"
    },
    {
     "data": {
      "application/vnd.jupyter.widget-view+json": {
       "model_id": "523f47980be4494e879fdc4fe1f86b13",
       "version_major": 2,
       "version_minor": 0
      },
      "text/plain": [
       "[1/241]   0%|           [00:00<?]"
      ]
     },
     "metadata": {},
     "output_type": "display_data"
    },
    {
     "data": {
      "application/vnd.jupyter.widget-view+json": {
       "model_id": "c6701c88047c4faf81c7fcf12f23d1c4",
       "version_major": 2,
       "version_minor": 0
      },
      "text/plain": [
       "[1/241]   0%|           [00:00<?]"
      ]
     },
     "metadata": {},
     "output_type": "display_data"
    },
    {
     "data": {
      "application/vnd.jupyter.widget-view+json": {
       "model_id": "c255c545ec824ce5bc7c6508e30fb70a",
       "version_major": 2,
       "version_minor": 0
      },
      "text/plain": [
       "[1/241]   0%|           [00:00<?]"
      ]
     },
     "metadata": {},
     "output_type": "display_data"
    },
    {
     "data": {
      "application/vnd.jupyter.widget-view+json": {
       "model_id": "697e513dc06d40df9c78ebcae9aee2e0",
       "version_major": 2,
       "version_minor": 0
      },
      "text/plain": [
       "[1/241]   0%|           [00:00<?]"
      ]
     },
     "metadata": {},
     "output_type": "display_data"
    },
    {
     "data": {
      "application/vnd.jupyter.widget-view+json": {
       "model_id": "8c9cf05233394104a7e04d7231f80276",
       "version_major": 2,
       "version_minor": 0
      },
      "text/plain": [
       "[1/241]   0%|           [00:00<?]"
      ]
     },
     "metadata": {},
     "output_type": "display_data"
    },
    {
     "data": {
      "application/vnd.jupyter.widget-view+json": {
       "model_id": "e88b6d74566542bba9936d4230813553",
       "version_major": 2,
       "version_minor": 0
      },
      "text/plain": [
       "[1/241]   0%|           [00:00<?]"
      ]
     },
     "metadata": {},
     "output_type": "display_data"
    },
    {
     "data": {
      "application/vnd.jupyter.widget-view+json": {
       "model_id": "8c5c18b9d9004631805823ba6ce676e7",
       "version_major": 2,
       "version_minor": 0
      },
      "text/plain": [
       "[1/241]   0%|           [00:00<?]"
      ]
     },
     "metadata": {},
     "output_type": "display_data"
    },
    {
     "data": {
      "application/vnd.jupyter.widget-view+json": {
       "model_id": "b2bf53409757464ab513517c27840d19",
       "version_major": 2,
       "version_minor": 0
      },
      "text/plain": [
       "[1/241]   0%|           [00:00<?]"
      ]
     },
     "metadata": {},
     "output_type": "display_data"
    },
    {
     "data": {
      "application/vnd.jupyter.widget-view+json": {
       "model_id": "d08ac84fefd247299b3f08eb823f7407",
       "version_major": 2,
       "version_minor": 0
      },
      "text/plain": [
       "[1/241]   0%|           [00:00<?]"
      ]
     },
     "metadata": {},
     "output_type": "display_data"
    },
    {
     "data": {
      "application/vnd.jupyter.widget-view+json": {
       "model_id": "a4f533229628499db8f7928a589ba558",
       "version_major": 2,
       "version_minor": 0
      },
      "text/plain": [
       "[1/241]   0%|           [00:00<?]"
      ]
     },
     "metadata": {},
     "output_type": "display_data"
    },
    {
     "data": {
      "application/vnd.jupyter.widget-view+json": {
       "model_id": "aab8d345b6f04b17aa30bb41e67968df",
       "version_major": 2,
       "version_minor": 0
      },
      "text/plain": [
       "[1/241]   0%|           [00:00<?]"
      ]
     },
     "metadata": {},
     "output_type": "display_data"
    },
    {
     "data": {
      "application/vnd.jupyter.widget-view+json": {
       "model_id": "a8e014684b3b4636aee1b5f3c1c91752",
       "version_major": 2,
       "version_minor": 0
      },
      "text/plain": [
       "[1/241]   0%|           [00:00<?]"
      ]
     },
     "metadata": {},
     "output_type": "display_data"
    },
    {
     "data": {
      "application/vnd.jupyter.widget-view+json": {
       "model_id": "f986c33c2e064eb7815321bf78ad6c67",
       "version_major": 2,
       "version_minor": 0
      },
      "text/plain": [
       "[1/241]   0%|           [00:00<?]"
      ]
     },
     "metadata": {},
     "output_type": "display_data"
    },
    {
     "data": {
      "application/vnd.jupyter.widget-view+json": {
       "model_id": "139f7aef173e4aa4a773f46d8ea34eee",
       "version_major": 2,
       "version_minor": 0
      },
      "text/plain": [
       "[1/241]   0%|           [00:00<?]"
      ]
     },
     "metadata": {},
     "output_type": "display_data"
    },
    {
     "data": {
      "application/vnd.jupyter.widget-view+json": {
       "model_id": "8bafbdf1af634036a12f132697e79fe7",
       "version_major": 2,
       "version_minor": 0
      },
      "text/plain": [
       "[1/241]   0%|           [00:00<?]"
      ]
     },
     "metadata": {},
     "output_type": "display_data"
    },
    {
     "data": {
      "application/vnd.jupyter.widget-view+json": {
       "model_id": "d7e3105e93b24e719d7637b4a57419b8",
       "version_major": 2,
       "version_minor": 0
      },
      "text/plain": [
       "[1/241]   0%|           [00:00<?]"
      ]
     },
     "metadata": {},
     "output_type": "display_data"
    },
    {
     "data": {
      "application/vnd.jupyter.widget-view+json": {
       "model_id": "822cf74abb9944b0ac5528bfe8a2e7ae",
       "version_major": 2,
       "version_minor": 0
      },
      "text/plain": [
       "[1/241]   0%|           [00:00<?]"
      ]
     },
     "metadata": {},
     "output_type": "display_data"
    },
    {
     "data": {
      "application/vnd.jupyter.widget-view+json": {
       "model_id": "515a5964083143569beac968b00aee79",
       "version_major": 2,
       "version_minor": 0
      },
      "text/plain": [
       "[1/241]   0%|           [00:00<?]"
      ]
     },
     "metadata": {},
     "output_type": "display_data"
    },
    {
     "data": {
      "application/vnd.jupyter.widget-view+json": {
       "model_id": "1267ef6445ab425e86cf1ae3dd57195c",
       "version_major": 2,
       "version_minor": 0
      },
      "text/plain": [
       "[1/241]   0%|           [00:00<?]"
      ]
     },
     "metadata": {},
     "output_type": "display_data"
    },
    {
     "data": {
      "application/vnd.jupyter.widget-view+json": {
       "model_id": "55b05af6cee1409ab1c6c9437625e192",
       "version_major": 2,
       "version_minor": 0
      },
      "text/plain": [
       "[1/241]   0%|           [00:00<?]"
      ]
     },
     "metadata": {},
     "output_type": "display_data"
    },
    {
     "data": {
      "application/vnd.jupyter.widget-view+json": {
       "model_id": "dd7dc472468d47e389129bad3d8082ff",
       "version_major": 2,
       "version_minor": 0
      },
      "text/plain": [
       "[1/241]   0%|           [00:00<?]"
      ]
     },
     "metadata": {},
     "output_type": "display_data"
    },
    {
     "data": {
      "application/vnd.jupyter.widget-view+json": {
       "model_id": "bb5b0a6ab07c4cdf8e6b442e12abd8c9",
       "version_major": 2,
       "version_minor": 0
      },
      "text/plain": [
       "[1/241]   0%|           [00:00<?]"
      ]
     },
     "metadata": {},
     "output_type": "display_data"
    },
    {
     "data": {
      "application/vnd.jupyter.widget-view+json": {
       "model_id": "830cf2d08b924fc3bcb40ff6af322148",
       "version_major": 2,
       "version_minor": 0
      },
      "text/plain": [
       "[1/241]   0%|           [00:00<?]"
      ]
     },
     "metadata": {},
     "output_type": "display_data"
    },
    {
     "data": {
      "application/vnd.jupyter.widget-view+json": {
       "model_id": "2a9c280d9c204551bbc64986ce14768e",
       "version_major": 2,
       "version_minor": 0
      },
      "text/plain": [
       "[1/241]   0%|           [00:00<?]"
      ]
     },
     "metadata": {},
     "output_type": "display_data"
    },
    {
     "data": {
      "application/vnd.jupyter.widget-view+json": {
       "model_id": "cae706c9b7f845d683fc3a797226579a",
       "version_major": 2,
       "version_minor": 0
      },
      "text/plain": [
       "[1/241]   0%|           [00:00<?]"
      ]
     },
     "metadata": {},
     "output_type": "display_data"
    },
    {
     "data": {
      "application/vnd.jupyter.widget-view+json": {
       "model_id": "23ba0ccb1261469e9ff91e756c02c9a8",
       "version_major": 2,
       "version_minor": 0
      },
      "text/plain": [
       "[1/241]   0%|           [00:00<?]"
      ]
     },
     "metadata": {},
     "output_type": "display_data"
    },
    {
     "data": {
      "application/vnd.jupyter.widget-view+json": {
       "model_id": "16879d561cf0430980c5b4fa8025974b",
       "version_major": 2,
       "version_minor": 0
      },
      "text/plain": [
       "[1/241]   0%|           [00:00<?]"
      ]
     },
     "metadata": {},
     "output_type": "display_data"
    },
    {
     "data": {
      "application/vnd.jupyter.widget-view+json": {
       "model_id": "30ee0153a8e849f7b012cde05880cf71",
       "version_major": 2,
       "version_minor": 0
      },
      "text/plain": [
       "[1/241]   0%|           [00:00<?]"
      ]
     },
     "metadata": {},
     "output_type": "display_data"
    },
    {
     "data": {
      "application/vnd.jupyter.widget-view+json": {
       "model_id": "a383ab6858454bcbb79bb34e5cd7f472",
       "version_major": 2,
       "version_minor": 0
      },
      "text/plain": [
       "[1/241]   0%|           [00:00<?]"
      ]
     },
     "metadata": {},
     "output_type": "display_data"
    },
    {
     "data": {
      "application/vnd.jupyter.widget-view+json": {
       "model_id": "cdd0c4774adf4409869b888684a00a02",
       "version_major": 2,
       "version_minor": 0
      },
      "text/plain": [
       "[1/241]   0%|           [00:00<?]"
      ]
     },
     "metadata": {},
     "output_type": "display_data"
    },
    {
     "data": {
      "application/vnd.jupyter.widget-view+json": {
       "model_id": "cd4e5fe055d041568d291d6bd4ec04a9",
       "version_major": 2,
       "version_minor": 0
      },
      "text/plain": [
       "[1/241]   0%|           [00:00<?]"
      ]
     },
     "metadata": {},
     "output_type": "display_data"
    },
    {
     "data": {
      "application/vnd.jupyter.widget-view+json": {
       "model_id": "4a2b9eed799a4fb5b9f4909552415365",
       "version_major": 2,
       "version_minor": 0
      },
      "text/plain": [
       "[1/241]   0%|           [00:00<?]"
      ]
     },
     "metadata": {},
     "output_type": "display_data"
    },
    {
     "data": {
      "application/vnd.jupyter.widget-view+json": {
       "model_id": "2fc53ff1eb1b473e8f406ef69af5905f",
       "version_major": 2,
       "version_minor": 0
      },
      "text/plain": [
       "[1/241]   0%|           [00:00<?]"
      ]
     },
     "metadata": {},
     "output_type": "display_data"
    },
    {
     "data": {
      "application/vnd.jupyter.widget-view+json": {
       "model_id": "028d873ed1de4fa6b2daa9dfe1e3e937",
       "version_major": 2,
       "version_minor": 0
      },
      "text/plain": [
       "[1/241]   0%|           [00:00<?]"
      ]
     },
     "metadata": {},
     "output_type": "display_data"
    },
    {
     "data": {
      "application/vnd.jupyter.widget-view+json": {
       "model_id": "d89cbb0e77794af9b9d6def913b0b6ee",
       "version_major": 2,
       "version_minor": 0
      },
      "text/plain": [
       "[1/241]   0%|           [00:00<?]"
      ]
     },
     "metadata": {},
     "output_type": "display_data"
    },
    {
     "data": {
      "application/vnd.jupyter.widget-view+json": {
       "model_id": "69ee1267dad34a9aaa9bc3c76bc0be9b",
       "version_major": 2,
       "version_minor": 0
      },
      "text/plain": [
       "[1/241]   0%|           [00:00<?]"
      ]
     },
     "metadata": {},
     "output_type": "display_data"
    },
    {
     "data": {
      "application/vnd.jupyter.widget-view+json": {
       "model_id": "d094585a499c4322b1eecb6f98e28238",
       "version_major": 2,
       "version_minor": 0
      },
      "text/plain": [
       "[1/241]   0%|           [00:00<?]"
      ]
     },
     "metadata": {},
     "output_type": "display_data"
    },
    {
     "data": {
      "application/vnd.jupyter.widget-view+json": {
       "model_id": "f3d3e02313fa4f4184f638503960e69a",
       "version_major": 2,
       "version_minor": 0
      },
      "text/plain": [
       "[1/241]   0%|           [00:00<?]"
      ]
     },
     "metadata": {},
     "output_type": "display_data"
    },
    {
     "data": {
      "application/vnd.jupyter.widget-view+json": {
       "model_id": "caee28fc1ae44f87b053484228f0c1c9",
       "version_major": 2,
       "version_minor": 0
      },
      "text/plain": [
       "[1/241]   0%|           [00:00<?]"
      ]
     },
     "metadata": {},
     "output_type": "display_data"
    },
    {
     "data": {
      "application/vnd.jupyter.widget-view+json": {
       "model_id": "cf5e5b7eb88840dbb91f92c7a8ab2e74",
       "version_major": 2,
       "version_minor": 0
      },
      "text/plain": [
       "[1/241]   0%|           [00:00<?]"
      ]
     },
     "metadata": {},
     "output_type": "display_data"
    },
    {
     "data": {
      "application/vnd.jupyter.widget-view+json": {
       "model_id": "0376405eba8644cd895d9119c8b47985",
       "version_major": 2,
       "version_minor": 0
      },
      "text/plain": [
       "[1/241]   0%|           [00:00<?]"
      ]
     },
     "metadata": {},
     "output_type": "display_data"
    },
    {
     "data": {
      "application/vnd.jupyter.widget-view+json": {
       "model_id": "ae14e96ff68d48f3a9612344316f8703",
       "version_major": 2,
       "version_minor": 0
      },
      "text/plain": [
       "[1/241]   0%|           [00:00<?]"
      ]
     },
     "metadata": {},
     "output_type": "display_data"
    },
    {
     "data": {
      "application/vnd.jupyter.widget-view+json": {
       "model_id": "8184acf8df7b476a9fe042e23da09f6d",
       "version_major": 2,
       "version_minor": 0
      },
      "text/plain": [
       "[1/241]   0%|           [00:00<?]"
      ]
     },
     "metadata": {},
     "output_type": "display_data"
    },
    {
     "data": {
      "application/vnd.jupyter.widget-view+json": {
       "model_id": "a883d7dab8ae4e70ae5dc40f9c51d222",
       "version_major": 2,
       "version_minor": 0
      },
      "text/plain": [
       "[1/241]   0%|           [00:00<?]"
      ]
     },
     "metadata": {},
     "output_type": "display_data"
    },
    {
     "data": {
      "application/vnd.jupyter.widget-view+json": {
       "model_id": "6d2c6e08a5fb435199ff8de0149b923f",
       "version_major": 2,
       "version_minor": 0
      },
      "text/plain": [
       "[1/241]   0%|           [00:00<?]"
      ]
     },
     "metadata": {},
     "output_type": "display_data"
    },
    {
     "data": {
      "application/vnd.jupyter.widget-view+json": {
       "model_id": "d311ec582bda4c9f85c081fa4b08ef84",
       "version_major": 2,
       "version_minor": 0
      },
      "text/plain": [
       "[1/241]   0%|           [00:00<?]"
      ]
     },
     "metadata": {},
     "output_type": "display_data"
    },
    {
     "data": {
      "application/vnd.jupyter.widget-view+json": {
       "model_id": "842a10d060b64e5280d5e5311e8e5852",
       "version_major": 2,
       "version_minor": 0
      },
      "text/plain": [
       "[1/241]   0%|           [00:00<?]"
      ]
     },
     "metadata": {},
     "output_type": "display_data"
    },
    {
     "data": {
      "application/vnd.jupyter.widget-view+json": {
       "model_id": "f60a6e8bef72440681014e860b36d25f",
       "version_major": 2,
       "version_minor": 0
      },
      "text/plain": [
       "[1/241]   0%|           [00:00<?]"
      ]
     },
     "metadata": {},
     "output_type": "display_data"
    },
    {
     "data": {
      "application/vnd.jupyter.widget-view+json": {
       "model_id": "b16a29adc0be406b9ce20e580a09e806",
       "version_major": 2,
       "version_minor": 0
      },
      "text/plain": [
       "[1/241]   0%|           [00:00<?]"
      ]
     },
     "metadata": {},
     "output_type": "display_data"
    },
    {
     "data": {
      "application/vnd.jupyter.widget-view+json": {
       "model_id": "61faf14ada93489d9af42164b1210c75",
       "version_major": 2,
       "version_minor": 0
      },
      "text/plain": [
       "[1/241]   0%|           [00:00<?]"
      ]
     },
     "metadata": {},
     "output_type": "display_data"
    },
    {
     "data": {
      "application/vnd.jupyter.widget-view+json": {
       "model_id": "fb5303c6bb294d5f9e861c046507842d",
       "version_major": 2,
       "version_minor": 0
      },
      "text/plain": [
       "[1/241]   0%|           [00:00<?]"
      ]
     },
     "metadata": {},
     "output_type": "display_data"
    },
    {
     "data": {
      "application/vnd.jupyter.widget-view+json": {
       "model_id": "e8667f36d60340b7a3b4216643ee2f14",
       "version_major": 2,
       "version_minor": 0
      },
      "text/plain": [
       "[1/241]   0%|           [00:00<?]"
      ]
     },
     "metadata": {},
     "output_type": "display_data"
    },
    {
     "data": {
      "application/vnd.jupyter.widget-view+json": {
       "model_id": "f08ebe2dbc18432a85e7f22219d54c54",
       "version_major": 2,
       "version_minor": 0
      },
      "text/plain": [
       "[1/241]   0%|           [00:00<?]"
      ]
     },
     "metadata": {},
     "output_type": "display_data"
    },
    {
     "data": {
      "application/vnd.jupyter.widget-view+json": {
       "model_id": "6ef83954eb70497797eb4a532e0a6945",
       "version_major": 2,
       "version_minor": 0
      },
      "text/plain": [
       "[1/241]   0%|           [00:00<?]"
      ]
     },
     "metadata": {},
     "output_type": "display_data"
    },
    {
     "data": {
      "application/vnd.jupyter.widget-view+json": {
       "model_id": "e981fa3f791e420180a2499e2e0aea5d",
       "version_major": 2,
       "version_minor": 0
      },
      "text/plain": [
       "[1/241]   0%|           [00:00<?]"
      ]
     },
     "metadata": {},
     "output_type": "display_data"
    },
    {
     "data": {
      "application/vnd.jupyter.widget-view+json": {
       "model_id": "25cacbba78ed4fbdb9169a7d38cab402",
       "version_major": 2,
       "version_minor": 0
      },
      "text/plain": [
       "[1/241]   0%|           [00:00<?]"
      ]
     },
     "metadata": {},
     "output_type": "display_data"
    },
    {
     "data": {
      "application/vnd.jupyter.widget-view+json": {
       "model_id": "391ea24047b7413bad4e5ac567d5f6ce",
       "version_major": 2,
       "version_minor": 0
      },
      "text/plain": [
       "[1/241]   0%|           [00:00<?]"
      ]
     },
     "metadata": {},
     "output_type": "display_data"
    },
    {
     "data": {
      "application/vnd.jupyter.widget-view+json": {
       "model_id": "fdce8585f216403fbb0d92420f3ec857",
       "version_major": 2,
       "version_minor": 0
      },
      "text/plain": [
       "[1/241]   0%|           [00:00<?]"
      ]
     },
     "metadata": {},
     "output_type": "display_data"
    },
    {
     "data": {
      "application/vnd.jupyter.widget-view+json": {
       "model_id": "63138322e54f434eb02dc35931b0a9d4",
       "version_major": 2,
       "version_minor": 0
      },
      "text/plain": [
       "[1/241]   0%|           [00:00<?]"
      ]
     },
     "metadata": {},
     "output_type": "display_data"
    },
    {
     "data": {
      "application/vnd.jupyter.widget-view+json": {
       "model_id": "024d332d134b4a229fdf7785f2204b21",
       "version_major": 2,
       "version_minor": 0
      },
      "text/plain": [
       "[1/241]   0%|           [00:00<?]"
      ]
     },
     "metadata": {},
     "output_type": "display_data"
    },
    {
     "data": {
      "application/vnd.jupyter.widget-view+json": {
       "model_id": "244a4ee928764d52a9f2cf3b19a0e371",
       "version_major": 2,
       "version_minor": 0
      },
      "text/plain": [
       "[1/241]   0%|           [00:00<?]"
      ]
     },
     "metadata": {},
     "output_type": "display_data"
    },
    {
     "data": {
      "application/vnd.jupyter.widget-view+json": {
       "model_id": "0918cba1d0e0497a87667eafdf3f51f2",
       "version_major": 2,
       "version_minor": 0
      },
      "text/plain": [
       "[1/241]   0%|           [00:00<?]"
      ]
     },
     "metadata": {},
     "output_type": "display_data"
    },
    {
     "data": {
      "application/vnd.jupyter.widget-view+json": {
       "model_id": "9d9e7440558c49f7a12912756c3b820f",
       "version_major": 2,
       "version_minor": 0
      },
      "text/plain": [
       "[1/241]   0%|           [00:00<?]"
      ]
     },
     "metadata": {},
     "output_type": "display_data"
    },
    {
     "data": {
      "application/vnd.jupyter.widget-view+json": {
       "model_id": "5942d48be4904c0abd068bd24a4b4076",
       "version_major": 2,
       "version_minor": 0
      },
      "text/plain": [
       "[1/241]   0%|           [00:00<?]"
      ]
     },
     "metadata": {},
     "output_type": "display_data"
    },
    {
     "data": {
      "application/vnd.jupyter.widget-view+json": {
       "model_id": "9870fbf330464a2d9acc85fa7f07060e",
       "version_major": 2,
       "version_minor": 0
      },
      "text/plain": [
       "[1/241]   0%|           [00:00<?]"
      ]
     },
     "metadata": {},
     "output_type": "display_data"
    },
    {
     "data": {
      "application/vnd.jupyter.widget-view+json": {
       "model_id": "15e84bdd854e4fa092ed1c0db14cae91",
       "version_major": 2,
       "version_minor": 0
      },
      "text/plain": [
       "[1/241]   0%|           [00:00<?]"
      ]
     },
     "metadata": {},
     "output_type": "display_data"
    },
    {
     "data": {
      "application/vnd.jupyter.widget-view+json": {
       "model_id": "9440f0a68690451fb51935dbaf4e3b27",
       "version_major": 2,
       "version_minor": 0
      },
      "text/plain": [
       "[1/241]   0%|           [00:00<?]"
      ]
     },
     "metadata": {},
     "output_type": "display_data"
    },
    {
     "data": {
      "application/vnd.jupyter.widget-view+json": {
       "model_id": "02b391736ad745cc8e7ea61c6cbc1dd4",
       "version_major": 2,
       "version_minor": 0
      },
      "text/plain": [
       "[1/241]   0%|           [00:00<?]"
      ]
     },
     "metadata": {},
     "output_type": "display_data"
    },
    {
     "data": {
      "application/vnd.jupyter.widget-view+json": {
       "model_id": "9f51f2cce6524e3497c7413ef35838f3",
       "version_major": 2,
       "version_minor": 0
      },
      "text/plain": [
       "[1/241]   0%|           [00:00<?]"
      ]
     },
     "metadata": {},
     "output_type": "display_data"
    },
    {
     "data": {
      "application/vnd.jupyter.widget-view+json": {
       "model_id": "1b5c07fc80c04e3c8b9b2d0cc8493d75",
       "version_major": 2,
       "version_minor": 0
      },
      "text/plain": [
       "[1/241]   0%|           [00:00<?]"
      ]
     },
     "metadata": {},
     "output_type": "display_data"
    },
    {
     "data": {
      "application/vnd.jupyter.widget-view+json": {
       "model_id": "e232502c3790467ca784ae6c90d79ff6",
       "version_major": 2,
       "version_minor": 0
      },
      "text/plain": [
       "[1/241]   0%|           [00:00<?]"
      ]
     },
     "metadata": {},
     "output_type": "display_data"
    },
    {
     "data": {
      "application/vnd.jupyter.widget-view+json": {
       "model_id": "61c0f36712fb4fb1b5b4f9ef3be36505",
       "version_major": 2,
       "version_minor": 0
      },
      "text/plain": [
       "[1/241]   0%|           [00:00<?]"
      ]
     },
     "metadata": {},
     "output_type": "display_data"
    },
    {
     "data": {
      "application/vnd.jupyter.widget-view+json": {
       "model_id": "31fd73f43a244b31b753f580348cad16",
       "version_major": 2,
       "version_minor": 0
      },
      "text/plain": [
       "[1/241]   0%|           [00:00<?]"
      ]
     },
     "metadata": {},
     "output_type": "display_data"
    },
    {
     "data": {
      "application/vnd.jupyter.widget-view+json": {
       "model_id": "76d3d5ac1dd147278012206ae074f24c",
       "version_major": 2,
       "version_minor": 0
      },
      "text/plain": [
       "[1/241]   0%|           [00:00<?]"
      ]
     },
     "metadata": {},
     "output_type": "display_data"
    },
    {
     "data": {
      "application/vnd.jupyter.widget-view+json": {
       "model_id": "18359d19acaf428d8837f735bb3ae6ad",
       "version_major": 2,
       "version_minor": 0
      },
      "text/plain": [
       "[1/241]   0%|           [00:00<?]"
      ]
     },
     "metadata": {},
     "output_type": "display_data"
    },
    {
     "data": {
      "application/vnd.jupyter.widget-view+json": {
       "model_id": "99b629b4af3e4bcda9718f4d699fc6f5",
       "version_major": 2,
       "version_minor": 0
      },
      "text/plain": [
       "[1/241]   0%|           [00:00<?]"
      ]
     },
     "metadata": {},
     "output_type": "display_data"
    },
    {
     "data": {
      "application/vnd.jupyter.widget-view+json": {
       "model_id": "4b65a90973a3494c8f1b071feb55ee5f",
       "version_major": 2,
       "version_minor": 0
      },
      "text/plain": [
       "[1/241]   0%|           [00:00<?]"
      ]
     },
     "metadata": {},
     "output_type": "display_data"
    },
    {
     "data": {
      "application/vnd.jupyter.widget-view+json": {
       "model_id": "6696b35d8fe04a9d959d5b29519240bf",
       "version_major": 2,
       "version_minor": 0
      },
      "text/plain": [
       "[1/241]   0%|           [00:00<?]"
      ]
     },
     "metadata": {},
     "output_type": "display_data"
    },
    {
     "data": {
      "application/vnd.jupyter.widget-view+json": {
       "model_id": "d749ef5c8bf345ecaa991eaf50e30453",
       "version_major": 2,
       "version_minor": 0
      },
      "text/plain": [
       "[1/241]   0%|           [00:00<?]"
      ]
     },
     "metadata": {},
     "output_type": "display_data"
    },
    {
     "data": {
      "application/vnd.jupyter.widget-view+json": {
       "model_id": "5390bb87b52b4cdda5c2e9f1e88b4a69",
       "version_major": 2,
       "version_minor": 0
      },
      "text/plain": [
       "[1/241]   0%|           [00:00<?]"
      ]
     },
     "metadata": {},
     "output_type": "display_data"
    },
    {
     "data": {
      "application/vnd.jupyter.widget-view+json": {
       "model_id": "4678ac942ec54557bd213bf06260c55f",
       "version_major": 2,
       "version_minor": 0
      },
      "text/plain": [
       "[1/241]   0%|           [00:00<?]"
      ]
     },
     "metadata": {},
     "output_type": "display_data"
    },
    {
     "data": {
      "application/vnd.jupyter.widget-view+json": {
       "model_id": "877c9ecaa9c24e15b862d6416eb3cd7a",
       "version_major": 2,
       "version_minor": 0
      },
      "text/plain": [
       "[1/241]   0%|           [00:00<?]"
      ]
     },
     "metadata": {},
     "output_type": "display_data"
    },
    {
     "data": {
      "application/vnd.jupyter.widget-view+json": {
       "model_id": "d58a0af7d4ed4085bae2eb861f320d18",
       "version_major": 2,
       "version_minor": 0
      },
      "text/plain": [
       "[1/241]   0%|           [00:00<?]"
      ]
     },
     "metadata": {},
     "output_type": "display_data"
    },
    {
     "data": {
      "application/vnd.jupyter.widget-view+json": {
       "model_id": "de53b5212c114c0a9b2744590d975b1b",
       "version_major": 2,
       "version_minor": 0
      },
      "text/plain": [
       "[1/241]   0%|           [00:00<?]"
      ]
     },
     "metadata": {},
     "output_type": "display_data"
    },
    {
     "data": {
      "application/vnd.jupyter.widget-view+json": {
       "model_id": "f076331cdd284d05a7f03d38c53435ea",
       "version_major": 2,
       "version_minor": 0
      },
      "text/plain": [
       "[1/241]   0%|           [00:00<?]"
      ]
     },
     "metadata": {},
     "output_type": "display_data"
    },
    {
     "data": {
      "application/vnd.jupyter.widget-view+json": {
       "model_id": "58d4e303bd774839988a70fb23fae8c2",
       "version_major": 2,
       "version_minor": 0
      },
      "text/plain": [
       "[1/241]   0%|           [00:00<?]"
      ]
     },
     "metadata": {},
     "output_type": "display_data"
    },
    {
     "data": {
      "application/vnd.jupyter.widget-view+json": {
       "model_id": "42bcbc9dabfa40bfae332b28339efcd4",
       "version_major": 2,
       "version_minor": 0
      },
      "text/plain": [
       "[1/241]   0%|           [00:00<?]"
      ]
     },
     "metadata": {},
     "output_type": "display_data"
    },
    {
     "data": {
      "application/vnd.jupyter.widget-view+json": {
       "model_id": "2e0e528748324d8295d214c06e682eb6",
       "version_major": 2,
       "version_minor": 0
      },
      "text/plain": [
       "[1/241]   0%|           [00:00<?]"
      ]
     },
     "metadata": {},
     "output_type": "display_data"
    },
    {
     "data": {
      "application/vnd.jupyter.widget-view+json": {
       "model_id": "56dbe2f21f554fff848a902bbfa8973d",
       "version_major": 2,
       "version_minor": 0
      },
      "text/plain": [
       "[1/241]   0%|           [00:00<?]"
      ]
     },
     "metadata": {},
     "output_type": "display_data"
    },
    {
     "data": {
      "application/vnd.jupyter.widget-view+json": {
       "model_id": "3ee9d5a13dec42188af231b179bb9180",
       "version_major": 2,
       "version_minor": 0
      },
      "text/plain": [
       "[1/241]   0%|           [00:00<?]"
      ]
     },
     "metadata": {},
     "output_type": "display_data"
    },
    {
     "data": {
      "application/vnd.jupyter.widget-view+json": {
       "model_id": "3ac657539cde4dbb838464280b66a83d",
       "version_major": 2,
       "version_minor": 0
      },
      "text/plain": [
       "[1/241]   0%|           [00:00<?]"
      ]
     },
     "metadata": {},
     "output_type": "display_data"
    },
    {
     "data": {
      "application/vnd.jupyter.widget-view+json": {
       "model_id": "6f82836f6f08478aa3457f9235df0cab",
       "version_major": 2,
       "version_minor": 0
      },
      "text/plain": [
       "[1/241]   0%|           [00:00<?]"
      ]
     },
     "metadata": {},
     "output_type": "display_data"
    },
    {
     "data": {
      "application/vnd.jupyter.widget-view+json": {
       "model_id": "5e7db9e105794159b4574982aca3e2e0",
       "version_major": 2,
       "version_minor": 0
      },
      "text/plain": [
       "[1/241]   0%|           [00:00<?]"
      ]
     },
     "metadata": {},
     "output_type": "display_data"
    },
    {
     "data": {
      "application/vnd.jupyter.widget-view+json": {
       "model_id": "0df38e3c91d245a4a2b33f38d5d018f7",
       "version_major": 2,
       "version_minor": 0
      },
      "text/plain": [
       "[1/241]   0%|           [00:00<?]"
      ]
     },
     "metadata": {},
     "output_type": "display_data"
    },
    {
     "data": {
      "application/vnd.jupyter.widget-view+json": {
       "model_id": "2569b087a9ae4e11a976afdd80ec9a37",
       "version_major": 2,
       "version_minor": 0
      },
      "text/plain": [
       "[1/241]   0%|           [00:00<?]"
      ]
     },
     "metadata": {},
     "output_type": "display_data"
    },
    {
     "data": {
      "application/vnd.jupyter.widget-view+json": {
       "model_id": "503912e331b04f188bc16bdb687444fe",
       "version_major": 2,
       "version_minor": 0
      },
      "text/plain": [
       "[1/241]   0%|           [00:00<?]"
      ]
     },
     "metadata": {},
     "output_type": "display_data"
    },
    {
     "data": {
      "application/vnd.jupyter.widget-view+json": {
       "model_id": "9eac0b7c64e94a668e0758d20f246c9c",
       "version_major": 2,
       "version_minor": 0
      },
      "text/plain": [
       "[1/241]   0%|           [00:00<?]"
      ]
     },
     "metadata": {},
     "output_type": "display_data"
    },
    {
     "data": {
      "application/vnd.jupyter.widget-view+json": {
       "model_id": "11efe624ce9e4a9eae61d7532cb63453",
       "version_major": 2,
       "version_minor": 0
      },
      "text/plain": [
       "[1/241]   0%|           [00:00<?]"
      ]
     },
     "metadata": {},
     "output_type": "display_data"
    },
    {
     "data": {
      "application/vnd.jupyter.widget-view+json": {
       "model_id": "ab056111cb144cd2bea14c14cb257c34",
       "version_major": 2,
       "version_minor": 0
      },
      "text/plain": [
       "[1/241]   0%|           [00:00<?]"
      ]
     },
     "metadata": {},
     "output_type": "display_data"
    },
    {
     "data": {
      "application/vnd.jupyter.widget-view+json": {
       "model_id": "0f1e6a78ee6a4f31afdb330602a83715",
       "version_major": 2,
       "version_minor": 0
      },
      "text/plain": [
       "[1/241]   0%|           [00:00<?]"
      ]
     },
     "metadata": {},
     "output_type": "display_data"
    },
    {
     "data": {
      "application/vnd.jupyter.widget-view+json": {
       "model_id": "942996a14edf46c5832864047afa6a66",
       "version_major": 2,
       "version_minor": 0
      },
      "text/plain": [
       "[1/241]   0%|           [00:00<?]"
      ]
     },
     "metadata": {},
     "output_type": "display_data"
    },
    {
     "name": "stderr",
     "output_type": "stream",
     "text": [
      "Engine run is terminating due to exception: \n"
     ]
    },
    {
     "ename": "KeyboardInterrupt",
     "evalue": "",
     "output_type": "error",
     "traceback": [
      "\u001b[0;31m---------------------------------------------------------------------------\u001b[0m",
      "\u001b[0;31mKeyboardInterrupt\u001b[0m                         Traceback (most recent call last)",
      "Cell \u001b[0;32mIn[26], line 96\u001b[0m\n\u001b[1;32m     93\u001b[0m pbar\u001b[38;5;241m.\u001b[39mattach(trainer, metric_names\u001b[38;5;241m=\u001b[39m[\u001b[38;5;124m'\u001b[39m\u001b[38;5;124mrunning_avg_loss\u001b[39m\u001b[38;5;124m'\u001b[39m, \u001b[38;5;124m'\u001b[39m\u001b[38;5;124mrunning_avg_usdr\u001b[39m\u001b[38;5;124m'\u001b[39m])\n\u001b[1;32m     95\u001b[0m \u001b[38;5;66;03m# Run Training\u001b[39;00m\n\u001b[0;32m---> 96\u001b[0m \u001b[43mtrainer\u001b[49m\u001b[38;5;241;43m.\u001b[39;49m\u001b[43mrun\u001b[49m\u001b[43m(\u001b[49m\u001b[43mtrain_loader\u001b[49m\u001b[43m,\u001b[49m\u001b[43m \u001b[49m\u001b[43mmax_epochs\u001b[49m\u001b[38;5;241;43m=\u001b[39;49m\u001b[38;5;241;43m500\u001b[39;49m\u001b[43m)\u001b[49m\n",
      "File \u001b[0;32m~/mambaforge/envs/bsrnn/lib/python3.10/site-packages/ignite/engine/engine.py:898\u001b[0m, in \u001b[0;36mEngine.run\u001b[0;34m(self, data, max_epochs, epoch_length, seed)\u001b[0m\n\u001b[1;32m    895\u001b[0m     \u001b[38;5;28mself\u001b[39m\u001b[38;5;241m.\u001b[39mstate\u001b[38;5;241m.\u001b[39mdataloader \u001b[38;5;241m=\u001b[39m data\n\u001b[1;32m    897\u001b[0m \u001b[38;5;28;01mif\u001b[39;00m \u001b[38;5;28mself\u001b[39m\u001b[38;5;241m.\u001b[39minterrupt_resume_enabled:\n\u001b[0;32m--> 898\u001b[0m     \u001b[38;5;28;01mreturn\u001b[39;00m \u001b[38;5;28;43mself\u001b[39;49m\u001b[38;5;241;43m.\u001b[39;49m\u001b[43m_internal_run\u001b[49m\u001b[43m(\u001b[49m\u001b[43m)\u001b[49m\n\u001b[1;32m    899\u001b[0m \u001b[38;5;28;01melse\u001b[39;00m:\n\u001b[1;32m    900\u001b[0m     \u001b[38;5;28;01mreturn\u001b[39;00m \u001b[38;5;28mself\u001b[39m\u001b[38;5;241m.\u001b[39m_internal_run_legacy()\n",
      "File \u001b[0;32m~/mambaforge/envs/bsrnn/lib/python3.10/site-packages/ignite/engine/engine.py:941\u001b[0m, in \u001b[0;36mEngine._internal_run\u001b[0;34m(self)\u001b[0m\n\u001b[1;32m    939\u001b[0m     \u001b[38;5;28mself\u001b[39m\u001b[38;5;241m.\u001b[39m_internal_run_generator \u001b[38;5;241m=\u001b[39m \u001b[38;5;28mself\u001b[39m\u001b[38;5;241m.\u001b[39m_internal_run_as_gen()\n\u001b[1;32m    940\u001b[0m \u001b[38;5;28;01mtry\u001b[39;00m:\n\u001b[0;32m--> 941\u001b[0m     \u001b[38;5;28;01mreturn\u001b[39;00m \u001b[38;5;28;43mnext\u001b[39;49m\u001b[43m(\u001b[49m\u001b[38;5;28;43mself\u001b[39;49m\u001b[38;5;241;43m.\u001b[39;49m\u001b[43m_internal_run_generator\u001b[49m\u001b[43m)\u001b[49m\n\u001b[1;32m    942\u001b[0m \u001b[38;5;28;01mexcept\u001b[39;00m \u001b[38;5;167;01mStopIteration\u001b[39;00m \u001b[38;5;28;01mas\u001b[39;00m out:\n\u001b[1;32m    943\u001b[0m     \u001b[38;5;28mself\u001b[39m\u001b[38;5;241m.\u001b[39m_internal_run_generator \u001b[38;5;241m=\u001b[39m \u001b[38;5;28;01mNone\u001b[39;00m\n",
      "File \u001b[0;32m~/mambaforge/envs/bsrnn/lib/python3.10/site-packages/ignite/engine/engine.py:999\u001b[0m, in \u001b[0;36mEngine._internal_run_as_gen\u001b[0;34m(self)\u001b[0m\n\u001b[1;32m    997\u001b[0m     \u001b[38;5;28mself\u001b[39m\u001b[38;5;241m.\u001b[39m_dataloader_iter \u001b[38;5;241m=\u001b[39m \u001b[38;5;28;01mNone\u001b[39;00m\n\u001b[1;32m    998\u001b[0m     \u001b[38;5;28mself\u001b[39m\u001b[38;5;241m.\u001b[39mlogger\u001b[38;5;241m.\u001b[39merror(\u001b[38;5;124mf\u001b[39m\u001b[38;5;124m\"\u001b[39m\u001b[38;5;124mEngine run is terminating due to exception: \u001b[39m\u001b[38;5;132;01m{\u001b[39;00me\u001b[38;5;132;01m}\u001b[39;00m\u001b[38;5;124m\"\u001b[39m)\n\u001b[0;32m--> 999\u001b[0m     \u001b[38;5;28;43mself\u001b[39;49m\u001b[38;5;241;43m.\u001b[39;49m\u001b[43m_handle_exception\u001b[49m\u001b[43m(\u001b[49m\u001b[43me\u001b[49m\u001b[43m)\u001b[49m\n\u001b[1;32m   1001\u001b[0m \u001b[38;5;28mself\u001b[39m\u001b[38;5;241m.\u001b[39m_dataloader_iter \u001b[38;5;241m=\u001b[39m \u001b[38;5;28;01mNone\u001b[39;00m\n\u001b[1;32m   1002\u001b[0m \u001b[38;5;28;01mreturn\u001b[39;00m \u001b[38;5;28mself\u001b[39m\u001b[38;5;241m.\u001b[39mstate\n",
      "File \u001b[0;32m~/mambaforge/envs/bsrnn/lib/python3.10/site-packages/ignite/engine/engine.py:644\u001b[0m, in \u001b[0;36mEngine._handle_exception\u001b[0;34m(self, e)\u001b[0m\n\u001b[1;32m    642\u001b[0m     \u001b[38;5;28mself\u001b[39m\u001b[38;5;241m.\u001b[39m_fire_event(Events\u001b[38;5;241m.\u001b[39mEXCEPTION_RAISED, e)\n\u001b[1;32m    643\u001b[0m \u001b[38;5;28;01melse\u001b[39;00m:\n\u001b[0;32m--> 644\u001b[0m     \u001b[38;5;28;01mraise\u001b[39;00m e\n",
      "File \u001b[0;32m~/mambaforge/envs/bsrnn/lib/python3.10/site-packages/ignite/engine/engine.py:965\u001b[0m, in \u001b[0;36mEngine._internal_run_as_gen\u001b[0;34m(self)\u001b[0m\n\u001b[1;32m    962\u001b[0m \u001b[38;5;28;01mif\u001b[39;00m \u001b[38;5;28mself\u001b[39m\u001b[38;5;241m.\u001b[39m_dataloader_iter \u001b[38;5;129;01mis\u001b[39;00m \u001b[38;5;28;01mNone\u001b[39;00m:\n\u001b[1;32m    963\u001b[0m     \u001b[38;5;28mself\u001b[39m\u001b[38;5;241m.\u001b[39m_setup_engine()\n\u001b[0;32m--> 965\u001b[0m epoch_time_taken \u001b[38;5;241m+\u001b[39m\u001b[38;5;241m=\u001b[39m \u001b[38;5;28;01myield from\u001b[39;00m \u001b[38;5;28mself\u001b[39m\u001b[38;5;241m.\u001b[39m_run_once_on_dataset_as_gen()\n\u001b[1;32m    967\u001b[0m \u001b[38;5;66;03m# time is available for handlers but must be updated after fire\u001b[39;00m\n\u001b[1;32m    968\u001b[0m \u001b[38;5;28mself\u001b[39m\u001b[38;5;241m.\u001b[39mstate\u001b[38;5;241m.\u001b[39mtimes[Events\u001b[38;5;241m.\u001b[39mEPOCH_COMPLETED\u001b[38;5;241m.\u001b[39mname] \u001b[38;5;241m=\u001b[39m epoch_time_taken\n",
      "File \u001b[0;32m~/mambaforge/envs/bsrnn/lib/python3.10/site-packages/ignite/engine/engine.py:1074\u001b[0m, in \u001b[0;36mEngine._run_once_on_dataset_as_gen\u001b[0;34m(self)\u001b[0m\n\u001b[1;32m   1071\u001b[0m \u001b[38;5;28mself\u001b[39m\u001b[38;5;241m.\u001b[39m_fire_event(Events\u001b[38;5;241m.\u001b[39mITERATION_STARTED)\n\u001b[1;32m   1072\u001b[0m \u001b[38;5;28;01myield from\u001b[39;00m \u001b[38;5;28mself\u001b[39m\u001b[38;5;241m.\u001b[39m_maybe_terminate_or_interrupt()\n\u001b[0;32m-> 1074\u001b[0m \u001b[38;5;28mself\u001b[39m\u001b[38;5;241m.\u001b[39mstate\u001b[38;5;241m.\u001b[39moutput \u001b[38;5;241m=\u001b[39m \u001b[38;5;28;43mself\u001b[39;49m\u001b[38;5;241;43m.\u001b[39;49m\u001b[43m_process_function\u001b[49m\u001b[43m(\u001b[49m\u001b[38;5;28;43mself\u001b[39;49m\u001b[43m,\u001b[49m\u001b[43m \u001b[49m\u001b[38;5;28;43mself\u001b[39;49m\u001b[38;5;241;43m.\u001b[39;49m\u001b[43mstate\u001b[49m\u001b[38;5;241;43m.\u001b[39;49m\u001b[43mbatch\u001b[49m\u001b[43m)\u001b[49m\n\u001b[1;32m   1075\u001b[0m \u001b[38;5;28mself\u001b[39m\u001b[38;5;241m.\u001b[39m_fire_event(Events\u001b[38;5;241m.\u001b[39mITERATION_COMPLETED)\n\u001b[1;32m   1076\u001b[0m \u001b[38;5;28;01myield from\u001b[39;00m \u001b[38;5;28mself\u001b[39m\u001b[38;5;241m.\u001b[39m_maybe_terminate_or_interrupt()\n",
      "Cell \u001b[0;32mIn[26], line 22\u001b[0m, in \u001b[0;36mtrain_step\u001b[0;34m(engine, batch)\u001b[0m\n\u001b[1;32m     20\u001b[0m mix_stft, mask_stft \u001b[38;5;241m=\u001b[39m mix_stft\u001b[38;5;241m.\u001b[39mto(\u001b[38;5;124m'\u001b[39m\u001b[38;5;124mcuda\u001b[39m\u001b[38;5;124m'\u001b[39m), mask_stft\u001b[38;5;241m.\u001b[39mto(\u001b[38;5;124m'\u001b[39m\u001b[38;5;124mcuda\u001b[39m\u001b[38;5;124m'\u001b[39m)\n\u001b[1;32m     21\u001b[0m y_mask \u001b[38;5;241m=\u001b[39m model(mix_stft)\n\u001b[0;32m---> 22\u001b[0m inv_y_mask \u001b[38;5;241m=\u001b[39m \u001b[43minv_stft_gpu\u001b[49m\u001b[43m(\u001b[49m\u001b[43my_mask\u001b[49m\u001b[43m)\u001b[49m\n\u001b[1;32m     23\u001b[0m inv_mask_stft \u001b[38;5;241m=\u001b[39m inv_stft_gpu(mask_stft)\n\u001b[1;32m     24\u001b[0m loss \u001b[38;5;241m=\u001b[39m loss_fn(y_mask, mask_stft, inv_y_mask, inv_mask_stft)\n",
      "Cell \u001b[0;32mIn[13], line 7\u001b[0m, in \u001b[0;36mfrom_spectogram.<locals>.inner\u001b[0;34m(chunk_stft, visualize)\u001b[0m\n\u001b[1;32m      6\u001b[0m \u001b[38;5;28;01mdef\u001b[39;00m \u001b[38;5;21minner\u001b[39m(chunk_stft, visualize\u001b[38;5;241m=\u001b[39m\u001b[38;5;28;01mFalse\u001b[39;00m):\n\u001b[0;32m----> 7\u001b[0m     chunk \u001b[38;5;241m=\u001b[39m \u001b[43mtransform_inv_spectogram\u001b[49m\u001b[43m(\u001b[49m\u001b[43mchunk_stft\u001b[49m\u001b[43m)\u001b[49m\n\u001b[1;32m      9\u001b[0m     \u001b[38;5;28;01mif\u001b[39;00m visualize:\n\u001b[1;32m     10\u001b[0m         visualize_spectogram(chunk\u001b[38;5;241m.\u001b[39mdetach()\u001b[38;5;241m.\u001b[39mnumpy(), chunk_stft)\n",
      "File \u001b[0;32m~/mambaforge/envs/bsrnn/lib/python3.10/site-packages/torch/nn/modules/module.py:1518\u001b[0m, in \u001b[0;36mModule._wrapped_call_impl\u001b[0;34m(self, *args, **kwargs)\u001b[0m\n\u001b[1;32m   1516\u001b[0m     \u001b[38;5;28;01mreturn\u001b[39;00m \u001b[38;5;28mself\u001b[39m\u001b[38;5;241m.\u001b[39m_compiled_call_impl(\u001b[38;5;241m*\u001b[39margs, \u001b[38;5;241m*\u001b[39m\u001b[38;5;241m*\u001b[39mkwargs)  \u001b[38;5;66;03m# type: ignore[misc]\u001b[39;00m\n\u001b[1;32m   1517\u001b[0m \u001b[38;5;28;01melse\u001b[39;00m:\n\u001b[0;32m-> 1518\u001b[0m     \u001b[38;5;28;01mreturn\u001b[39;00m \u001b[38;5;28;43mself\u001b[39;49m\u001b[38;5;241;43m.\u001b[39;49m\u001b[43m_call_impl\u001b[49m\u001b[43m(\u001b[49m\u001b[38;5;241;43m*\u001b[39;49m\u001b[43margs\u001b[49m\u001b[43m,\u001b[49m\u001b[43m \u001b[49m\u001b[38;5;241;43m*\u001b[39;49m\u001b[38;5;241;43m*\u001b[39;49m\u001b[43mkwargs\u001b[49m\u001b[43m)\u001b[49m\n",
      "File \u001b[0;32m~/mambaforge/envs/bsrnn/lib/python3.10/site-packages/torch/nn/modules/module.py:1527\u001b[0m, in \u001b[0;36mModule._call_impl\u001b[0;34m(self, *args, **kwargs)\u001b[0m\n\u001b[1;32m   1522\u001b[0m \u001b[38;5;66;03m# If we don't have any hooks, we want to skip the rest of the logic in\u001b[39;00m\n\u001b[1;32m   1523\u001b[0m \u001b[38;5;66;03m# this function, and just call forward.\u001b[39;00m\n\u001b[1;32m   1524\u001b[0m \u001b[38;5;28;01mif\u001b[39;00m \u001b[38;5;129;01mnot\u001b[39;00m (\u001b[38;5;28mself\u001b[39m\u001b[38;5;241m.\u001b[39m_backward_hooks \u001b[38;5;129;01mor\u001b[39;00m \u001b[38;5;28mself\u001b[39m\u001b[38;5;241m.\u001b[39m_backward_pre_hooks \u001b[38;5;129;01mor\u001b[39;00m \u001b[38;5;28mself\u001b[39m\u001b[38;5;241m.\u001b[39m_forward_hooks \u001b[38;5;129;01mor\u001b[39;00m \u001b[38;5;28mself\u001b[39m\u001b[38;5;241m.\u001b[39m_forward_pre_hooks\n\u001b[1;32m   1525\u001b[0m         \u001b[38;5;129;01mor\u001b[39;00m _global_backward_pre_hooks \u001b[38;5;129;01mor\u001b[39;00m _global_backward_hooks\n\u001b[1;32m   1526\u001b[0m         \u001b[38;5;129;01mor\u001b[39;00m _global_forward_hooks \u001b[38;5;129;01mor\u001b[39;00m _global_forward_pre_hooks):\n\u001b[0;32m-> 1527\u001b[0m     \u001b[38;5;28;01mreturn\u001b[39;00m \u001b[43mforward_call\u001b[49m\u001b[43m(\u001b[49m\u001b[38;5;241;43m*\u001b[39;49m\u001b[43margs\u001b[49m\u001b[43m,\u001b[49m\u001b[43m \u001b[49m\u001b[38;5;241;43m*\u001b[39;49m\u001b[38;5;241;43m*\u001b[39;49m\u001b[43mkwargs\u001b[49m\u001b[43m)\u001b[49m\n\u001b[1;32m   1529\u001b[0m \u001b[38;5;28;01mtry\u001b[39;00m:\n\u001b[1;32m   1530\u001b[0m     result \u001b[38;5;241m=\u001b[39m \u001b[38;5;28;01mNone\u001b[39;00m\n",
      "File \u001b[0;32m~/mambaforge/envs/bsrnn/lib/python3.10/site-packages/torchaudio/transforms/_transforms.py:196\u001b[0m, in \u001b[0;36mInverseSpectrogram.forward\u001b[0;34m(self, spectrogram, length)\u001b[0m\n\u001b[1;32m    187\u001b[0m \u001b[38;5;28;01mdef\u001b[39;00m \u001b[38;5;21mforward\u001b[39m(\u001b[38;5;28mself\u001b[39m, spectrogram: Tensor, length: Optional[\u001b[38;5;28mint\u001b[39m] \u001b[38;5;241m=\u001b[39m \u001b[38;5;28;01mNone\u001b[39;00m) \u001b[38;5;241m-\u001b[39m\u001b[38;5;241m>\u001b[39m Tensor:\n\u001b[1;32m    188\u001b[0m \u001b[38;5;250m    \u001b[39m\u001b[38;5;124mr\u001b[39m\u001b[38;5;124;03m\"\"\"\u001b[39;00m\n\u001b[1;32m    189\u001b[0m \u001b[38;5;124;03m    Args:\u001b[39;00m\n\u001b[1;32m    190\u001b[0m \u001b[38;5;124;03m        spectrogram (Tensor): Complex tensor of audio of dimension (..., freq, time).\u001b[39;00m\n\u001b[0;32m   (...)\u001b[0m\n\u001b[1;32m    194\u001b[0m \u001b[38;5;124;03m        Tensor: Dimension (..., time), Least squares estimation of the original signal.\u001b[39;00m\n\u001b[1;32m    195\u001b[0m \u001b[38;5;124;03m    \"\"\"\u001b[39;00m\n\u001b[0;32m--> 196\u001b[0m     \u001b[38;5;28;01mreturn\u001b[39;00m \u001b[43mF\u001b[49m\u001b[38;5;241;43m.\u001b[39;49m\u001b[43minverse_spectrogram\u001b[49m\u001b[43m(\u001b[49m\n\u001b[1;32m    197\u001b[0m \u001b[43m        \u001b[49m\u001b[43mspectrogram\u001b[49m\u001b[43m,\u001b[49m\n\u001b[1;32m    198\u001b[0m \u001b[43m        \u001b[49m\u001b[43mlength\u001b[49m\u001b[43m,\u001b[49m\n\u001b[1;32m    199\u001b[0m \u001b[43m        \u001b[49m\u001b[38;5;28;43mself\u001b[39;49m\u001b[38;5;241;43m.\u001b[39;49m\u001b[43mpad\u001b[49m\u001b[43m,\u001b[49m\n\u001b[1;32m    200\u001b[0m \u001b[43m        \u001b[49m\u001b[38;5;28;43mself\u001b[39;49m\u001b[38;5;241;43m.\u001b[39;49m\u001b[43mwindow\u001b[49m\u001b[43m,\u001b[49m\n\u001b[1;32m    201\u001b[0m \u001b[43m        \u001b[49m\u001b[38;5;28;43mself\u001b[39;49m\u001b[38;5;241;43m.\u001b[39;49m\u001b[43mn_fft\u001b[49m\u001b[43m,\u001b[49m\n\u001b[1;32m    202\u001b[0m \u001b[43m        \u001b[49m\u001b[38;5;28;43mself\u001b[39;49m\u001b[38;5;241;43m.\u001b[39;49m\u001b[43mhop_length\u001b[49m\u001b[43m,\u001b[49m\n\u001b[1;32m    203\u001b[0m \u001b[43m        \u001b[49m\u001b[38;5;28;43mself\u001b[39;49m\u001b[38;5;241;43m.\u001b[39;49m\u001b[43mwin_length\u001b[49m\u001b[43m,\u001b[49m\n\u001b[1;32m    204\u001b[0m \u001b[43m        \u001b[49m\u001b[38;5;28;43mself\u001b[39;49m\u001b[38;5;241;43m.\u001b[39;49m\u001b[43mnormalized\u001b[49m\u001b[43m,\u001b[49m\n\u001b[1;32m    205\u001b[0m \u001b[43m        \u001b[49m\u001b[38;5;28;43mself\u001b[39;49m\u001b[38;5;241;43m.\u001b[39;49m\u001b[43mcenter\u001b[49m\u001b[43m,\u001b[49m\n\u001b[1;32m    206\u001b[0m \u001b[43m        \u001b[49m\u001b[38;5;28;43mself\u001b[39;49m\u001b[38;5;241;43m.\u001b[39;49m\u001b[43mpad_mode\u001b[49m\u001b[43m,\u001b[49m\n\u001b[1;32m    207\u001b[0m \u001b[43m        \u001b[49m\u001b[38;5;28;43mself\u001b[39;49m\u001b[38;5;241;43m.\u001b[39;49m\u001b[43monesided\u001b[49m\u001b[43m,\u001b[49m\n\u001b[1;32m    208\u001b[0m \u001b[43m    \u001b[49m\u001b[43m)\u001b[49m\n",
      "File \u001b[0;32m~/mambaforge/envs/bsrnn/lib/python3.10/site-packages/torchaudio/functional/functional.py:208\u001b[0m, in \u001b[0;36minverse_spectrogram\u001b[0;34m(spectrogram, length, pad, window, n_fft, hop_length, win_length, normalized, center, pad_mode, onesided)\u001b[0m\n\u001b[1;32m    205\u001b[0m spectrogram \u001b[38;5;241m=\u001b[39m spectrogram\u001b[38;5;241m.\u001b[39mreshape(\u001b[38;5;241m-\u001b[39m\u001b[38;5;241m1\u001b[39m, shape[\u001b[38;5;241m-\u001b[39m\u001b[38;5;241m2\u001b[39m], shape[\u001b[38;5;241m-\u001b[39m\u001b[38;5;241m1\u001b[39m])\n\u001b[1;32m    207\u001b[0m \u001b[38;5;66;03m# default values are consistent with librosa.core.spectrum._spectrogram\u001b[39;00m\n\u001b[0;32m--> 208\u001b[0m waveform \u001b[38;5;241m=\u001b[39m \u001b[43mtorch\u001b[49m\u001b[38;5;241;43m.\u001b[39;49m\u001b[43mistft\u001b[49m\u001b[43m(\u001b[49m\n\u001b[1;32m    209\u001b[0m \u001b[43m    \u001b[49m\u001b[38;5;28;43minput\u001b[39;49m\u001b[38;5;241;43m=\u001b[39;49m\u001b[43mspectrogram\u001b[49m\u001b[43m,\u001b[49m\n\u001b[1;32m    210\u001b[0m \u001b[43m    \u001b[49m\u001b[43mn_fft\u001b[49m\u001b[38;5;241;43m=\u001b[39;49m\u001b[43mn_fft\u001b[49m\u001b[43m,\u001b[49m\n\u001b[1;32m    211\u001b[0m \u001b[43m    \u001b[49m\u001b[43mhop_length\u001b[49m\u001b[38;5;241;43m=\u001b[39;49m\u001b[43mhop_length\u001b[49m\u001b[43m,\u001b[49m\n\u001b[1;32m    212\u001b[0m \u001b[43m    \u001b[49m\u001b[43mwin_length\u001b[49m\u001b[38;5;241;43m=\u001b[39;49m\u001b[43mwin_length\u001b[49m\u001b[43m,\u001b[49m\n\u001b[1;32m    213\u001b[0m \u001b[43m    \u001b[49m\u001b[43mwindow\u001b[49m\u001b[38;5;241;43m=\u001b[39;49m\u001b[43mwindow\u001b[49m\u001b[43m,\u001b[49m\n\u001b[1;32m    214\u001b[0m \u001b[43m    \u001b[49m\u001b[43mcenter\u001b[49m\u001b[38;5;241;43m=\u001b[39;49m\u001b[43mcenter\u001b[49m\u001b[43m,\u001b[49m\n\u001b[1;32m    215\u001b[0m \u001b[43m    \u001b[49m\u001b[43mnormalized\u001b[49m\u001b[38;5;241;43m=\u001b[39;49m\u001b[43mframe_length_norm\u001b[49m\u001b[43m,\u001b[49m\n\u001b[1;32m    216\u001b[0m \u001b[43m    \u001b[49m\u001b[43monesided\u001b[49m\u001b[38;5;241;43m=\u001b[39;49m\u001b[43monesided\u001b[49m\u001b[43m,\u001b[49m\n\u001b[1;32m    217\u001b[0m \u001b[43m    \u001b[49m\u001b[43mlength\u001b[49m\u001b[38;5;241;43m=\u001b[39;49m\u001b[43mlength\u001b[49m\u001b[43m \u001b[49m\u001b[38;5;241;43m+\u001b[39;49m\u001b[43m \u001b[49m\u001b[38;5;241;43m2\u001b[39;49m\u001b[43m \u001b[49m\u001b[38;5;241;43m*\u001b[39;49m\u001b[43m \u001b[49m\u001b[43mpad\u001b[49m\u001b[43m \u001b[49m\u001b[38;5;28;43;01mif\u001b[39;49;00m\u001b[43m \u001b[49m\u001b[43mlength\u001b[49m\u001b[43m \u001b[49m\u001b[38;5;129;43;01mis\u001b[39;49;00m\u001b[43m \u001b[49m\u001b[38;5;129;43;01mnot\u001b[39;49;00m\u001b[43m \u001b[49m\u001b[38;5;28;43;01mNone\u001b[39;49;00m\u001b[43m \u001b[49m\u001b[38;5;28;43;01melse\u001b[39;49;00m\u001b[43m \u001b[49m\u001b[38;5;28;43;01mNone\u001b[39;49;00m\u001b[43m,\u001b[49m\n\u001b[1;32m    218\u001b[0m \u001b[43m    \u001b[49m\u001b[43mreturn_complex\u001b[49m\u001b[38;5;241;43m=\u001b[39;49m\u001b[38;5;28;43;01mFalse\u001b[39;49;00m\u001b[43m,\u001b[49m\n\u001b[1;32m    219\u001b[0m \u001b[43m\u001b[49m\u001b[43m)\u001b[49m\n\u001b[1;32m    221\u001b[0m \u001b[38;5;28;01mif\u001b[39;00m length \u001b[38;5;129;01mis\u001b[39;00m \u001b[38;5;129;01mnot\u001b[39;00m \u001b[38;5;28;01mNone\u001b[39;00m \u001b[38;5;129;01mand\u001b[39;00m pad \u001b[38;5;241m>\u001b[39m \u001b[38;5;241m0\u001b[39m:\n\u001b[1;32m    222\u001b[0m     \u001b[38;5;66;03m# remove padding from front and back\u001b[39;00m\n\u001b[1;32m    223\u001b[0m     waveform \u001b[38;5;241m=\u001b[39m waveform[:, pad:\u001b[38;5;241m-\u001b[39mpad]\n",
      "File \u001b[0;32m~/mambaforge/envs/bsrnn/lib/python3.10/site-packages/torch/utils/_device.py:77\u001b[0m, in \u001b[0;36mDeviceContext.__torch_function__\u001b[0;34m(self, func, types, args, kwargs)\u001b[0m\n\u001b[1;32m     75\u001b[0m \u001b[38;5;28;01mif\u001b[39;00m func \u001b[38;5;129;01min\u001b[39;00m _device_constructors() \u001b[38;5;129;01mand\u001b[39;00m kwargs\u001b[38;5;241m.\u001b[39mget(\u001b[38;5;124m'\u001b[39m\u001b[38;5;124mdevice\u001b[39m\u001b[38;5;124m'\u001b[39m) \u001b[38;5;129;01mis\u001b[39;00m \u001b[38;5;28;01mNone\u001b[39;00m:\n\u001b[1;32m     76\u001b[0m     kwargs[\u001b[38;5;124m'\u001b[39m\u001b[38;5;124mdevice\u001b[39m\u001b[38;5;124m'\u001b[39m] \u001b[38;5;241m=\u001b[39m \u001b[38;5;28mself\u001b[39m\u001b[38;5;241m.\u001b[39mdevice\n\u001b[0;32m---> 77\u001b[0m \u001b[38;5;28;01mreturn\u001b[39;00m \u001b[43mfunc\u001b[49m\u001b[43m(\u001b[49m\u001b[38;5;241;43m*\u001b[39;49m\u001b[43margs\u001b[49m\u001b[43m,\u001b[49m\u001b[43m \u001b[49m\u001b[38;5;241;43m*\u001b[39;49m\u001b[38;5;241;43m*\u001b[39;49m\u001b[43mkwargs\u001b[49m\u001b[43m)\u001b[49m\n",
      "\u001b[0;31mKeyboardInterrupt\u001b[0m: "
     ]
    }
   ],
   "source": [
    "import torch\n",
    "from torch import nn\n",
    "from torchvision.transforms import Compose, Normalize, ToTensor\n",
    "\n",
    "from ignite.engine import Engine, Events, create_supervised_trainer, create_supervised_evaluator\n",
    "from ignite.metrics import Accuracy, Loss, RunningAverage\n",
    "from ignite.handlers import ModelCheckpoint, Checkpoint, DiskSaver, global_step_from_engine\n",
    "from ignite.contrib.handlers import TensorboardLogger, global_step_from_engine, ProgressBar, TensorboardLogger\n",
    "\n",
    "optimizer = torch.optim.Adam(model.parameters(), lr=0.001)\n",
    "loss_fn = CustomLoss()\n",
    "\n",
    "torch.set_default_device('cuda')\n",
    "inv_stft_gpu = from_spectogram()\n",
    "\n",
    "def train_step(engine, batch):\n",
    "    model.train()\n",
    "    optimizer.zero_grad()\n",
    "    mix_stft, mask_stft = batch\n",
    "    mix_stft, mask_stft = mix_stft.to('cuda'), mask_stft.to('cuda')\n",
    "    y_mask = model(mix_stft)\n",
    "    inv_y_mask = inv_stft_gpu(y_mask)\n",
    "    inv_mask_stft = inv_stft_gpu(mask_stft)\n",
    "    loss = loss_fn(y_mask, mask_stft, inv_y_mask, inv_mask_stft)\n",
    "    loss.backward()\n",
    "    torch.nn.utils.clip_grad_norm_(model.parameters(), clip_grad_norm)\n",
    "    optimizer.step()\n",
    "    \n",
    "    usdr_value = compute_usdr(inv_y_mask, inv_mask_stft).item()\n",
    "    return {'loss': loss.item(), 'usdr': usdr_value}\n",
    "\n",
    "# Evaluation Step\n",
    "# def evaluate_step(engine, batch):\n",
    "#     model.eval()\n",
    "#     with torch.no_grad():\n",
    "#         mix_stft, mask_stft = batch\n",
    "#         mix_stft, mask_stft = mix_stft.to('cuda'), mask_stft.to('cuda')\n",
    "#         y_mask = model(mix_stft)\n",
    "#         inv_y_mask = inv_stft_gpu(y_mask)\n",
    "#         inv_mask_stft = inv_stft_gpu(mask_stft)\n",
    "#         return y_mask, mask_stft, inv_y_mask, inv_mask_stft\n",
    "\n",
    "\n",
    "trainer = Engine(train_step)\n",
    "# evaluator = Engine(evaluate_step)\n",
    "\n",
    "running_avg_usdr = RunningAverage(output_transform=lambda x: x['usdr'])\n",
    "running_avg_usdr.attach(trainer, 'running_avg_usdr')\n",
    "running_avg_loss = RunningAverage(output_transform=lambda x: x['loss'])\n",
    "running_avg_loss.attach(trainer, 'running_avg_loss')\n",
    "\n",
    "tb_logger = TensorboardLogger(log_dir=f\"{prefix}/tb\")\n",
    "tb_logger.attach_output_handler(\n",
    "    trainer,\n",
    "    event_name=Events.ITERATION_COMPLETED,\n",
    "    tag=\"training\",\n",
    "    output_transform=lambda x: {\"running_avg_loss\": trainer.state.metrics['running_avg_loss'], \n",
    "                                \"running_avg_usdr\": trainer.state.metrics['running_avg_usdr']}\n",
    ")\n",
    "\n",
    "\n",
    "# Model Checkpointing\n",
    "to_save = {\n",
    "    'trainer': trainer,\n",
    "    'model': model,\n",
    "    'optimizer': optimizer,\n",
    "    'running_avg_usdr': running_avg_usdr,\n",
    "    'running_avg_loss': running_avg_loss\n",
    "}\n",
    "checkpoint_handler = Checkpoint(to_save, DiskSaver(f'{prefix}/models', create_dir=True), n_saved=10, global_step_transform=global_step_from_engine(trainer))\n",
    "\n",
    "trainer.add_event_handler(Events.EPOCH_COMPLETED, checkpoint_handler)\n",
    "\n",
    "# Resume Training\n",
    "checkpoint_fp = 'checkpoints/checkpoint.ckpt'\n",
    "if os.path.isfile(checkpoint_fp):\n",
    "    checkpoint = torch.load(checkpoint_fp)\n",
    "    Checkpoint.load_objects(to_load=to_save, checkpoint=checkpoint)\n",
    "\n",
    "# @trainer.on(Events.EPOCH_COMPLETED)\n",
    "# def run_evaluation(engine):\n",
    "#     evaluator.run(val_loader)\n",
    "\n",
    "# @evaluator.on(Events.EPOCH_COMPLETED)\n",
    "# def log_evaluation_results(engine):\n",
    "#     metrics = engine.state.metrics\n",
    "#     avg_usdr = metrics['usdr']\n",
    "#     print(f\"Validation Results - Epoch: {engine.state.epoch} Avg USDR: {avg_usdr:.2f}\")\n",
    "#     tb_logger.writer.add_scalar(\"validation/usdr\", avg_usdr, engine.state.epoch)\n",
    "\n",
    "# Progress Bar\n",
    "pbar = ProgressBar(persist=True)\n",
    "pbar.attach(trainer, metric_names=['running_avg_loss', 'running_avg_usdr'])\n",
    "\n",
    "# Run Training\n",
    "trainer.run(train_loader, max_epochs=500)"
   ]
  },
  {
   "cell_type": "code",
   "execution_count": null,
   "id": "d5b47324-65d1-40c1-9e44-daefaaa01642",
   "metadata": {},
   "outputs": [],
   "source": [
    "model"
   ]
  },
  {
   "cell_type": "code",
   "execution_count": null,
   "id": "8c34477a-78c7-42c5-9e8a-1e7af36bd23b",
   "metadata": {},
   "outputs": [],
   "source": [
    "torch.set_default_device('cuda')\n",
    "m = MSSBandSplitRNN()\n",
    "model.eval()\n",
    "m.bsrnn = model\n",
    "mixture_wav = load_audio(\"mixture.wav\")\n",
    "target_wav = load_audio(\"drums.wav\")\n",
    "with torch.no_grad():\n",
    "    y = m(mixture_wav.cuda())\n",
    "show_idp_audio(mixture_wav)\n",
    "show_idp_audio(y.cpu().detach().numpy())\n",
    "show_idp_audio(target_wav)\n"
   ]
  },
  {
   "cell_type": "code",
   "execution_count": null,
   "id": "0bf8d3a9-fca6-4926-8443-3fdc73278204",
   "metadata": {},
   "outputs": [],
   "source": [
    "\n",
    "\n",
    "torch.set_default_device('cuda')\n",
    "import glob\n",
    "models = list(glob.glob(\"*.pt\"))\n",
    "models = sorted(models, key=lambda x: int(x.split(\"-\")[1]))\n",
    "mixture_wav = load_audio(\"mixture.wav\")\n",
    "target_wav = load_audio(\"drums.wav\")\n",
    "print(\"mixture:\")\n",
    "show_idp_audio(mixture_wav)\n",
    "print(\"target:\")\n",
    "show_idp_audio(target_wav)\n",
    "\n",
    "dw = None\n",
    "for i, model_path in enumerate(models):\n",
    "    if i % 5 != 0:\n",
    "        continue\n",
    "    model_bsrnn = torch.load(model_path, map_location=\"cuda\")\n",
    "    m = MSSBandSplitRNN()\n",
    "    m.bsrnn = model_bsrnn\n",
    "    w = torch.cat([t.view(-1) for t in list(m.parameters())])\n",
    "    if dw is None:\n",
    "        dw = nn.L1Loss()(torch.zeros_like(w), w)\n",
    "    else:\n",
    "        dw = nn.L1Loss()(dw, w)\n",
    "    with torch.no_grad():\n",
    "        with torch.autocast(device_type='cuda', dtype=torch.float16):\n",
    "            y = m(mixture_wav.cuda())\n",
    "        usdr = compute_usdr(y, target_wav.cuda())\n",
    "        print(f\"{model_path} △w={dw} usdr={usdr}: \")\n",
    "        \n",
    "        show_idp_audio(y.cpu().detach().numpy())\n"
   ]
  }
 ],
 "metadata": {
  "kernelspec": {
   "display_name": "Python [conda env:bsrnn]",
   "language": "python",
   "name": "conda-env-bsrnn-py"
  },
  "language_info": {
   "codemirror_mode": {
    "name": "ipython",
    "version": 3
   },
   "file_extension": ".py",
   "mimetype": "text/x-python",
   "name": "python",
   "nbconvert_exporter": "python",
   "pygments_lexer": "ipython3",
   "version": "3.10.13"
  }
 },
 "nbformat": 4,
 "nbformat_minor": 5
}
